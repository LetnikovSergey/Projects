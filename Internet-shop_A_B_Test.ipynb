{
 "cells": [
  {
   "cell_type": "markdown",
   "metadata": {
    "id": "qKcAZJvxg8RN"
   },
   "source": [
    "# Проект анализа A/B теста интернет магазина."
   ]
  },
  {
   "cell_type": "markdown",
   "metadata": {
    "id": "esTGaDSxg8RN"
   },
   "source": [
    "# Описание проекта"
   ]
  },
  {
   "cell_type": "markdown",
   "metadata": {
    "id": "NPa_WIN8g8RO"
   },
   "source": [
    "Вы — аналитик крупного интернет-магазина. Вместе с отделом маркетинга вы подготовили список гипотез для увеличения выручки.\n",
    "\n",
    "Приоритизируйте гипотезы, запустите A/B-тест и проанализируйте результаты."
   ]
  },
  {
   "cell_type": "markdown",
   "metadata": {
    "id": "B_Asohamg8RO"
   },
   "source": [
    "# Шаг 1. Приоритизация гипотез."
   ]
  },
  {
   "cell_type": "code",
   "execution_count": 1,
   "metadata": {
    "id": "cnZrJo7eg8RO",
    "outputId": "f3cba272-5de2-4498-b1cd-68d6d4a534bb"
   },
   "outputs": [
    {
     "data": {
      "text/html": [
       "<div>\n",
       "<style scoped>\n",
       "    .dataframe tbody tr th:only-of-type {\n",
       "        vertical-align: middle;\n",
       "    }\n",
       "\n",
       "    .dataframe tbody tr th {\n",
       "        vertical-align: top;\n",
       "    }\n",
       "\n",
       "    .dataframe thead th {\n",
       "        text-align: right;\n",
       "    }\n",
       "</style>\n",
       "<table border=\"1\" class=\"dataframe\">\n",
       "  <thead>\n",
       "    <tr style=\"text-align: right;\">\n",
       "      <th></th>\n",
       "      <th>Hypothesis</th>\n",
       "      <th>Reach</th>\n",
       "      <th>Impact</th>\n",
       "      <th>Confidence</th>\n",
       "      <th>Efforts</th>\n",
       "    </tr>\n",
       "  </thead>\n",
       "  <tbody>\n",
       "    <tr>\n",
       "      <th>0</th>\n",
       "      <td>Добавить два новых канала привлечения трафика, что позволит привлекать на 30% больше пользователей</td>\n",
       "      <td>3</td>\n",
       "      <td>10</td>\n",
       "      <td>8</td>\n",
       "      <td>6</td>\n",
       "    </tr>\n",
       "    <tr>\n",
       "      <th>1</th>\n",
       "      <td>Запустить собственную службу доставки, что сократит срок доставки заказов</td>\n",
       "      <td>2</td>\n",
       "      <td>5</td>\n",
       "      <td>4</td>\n",
       "      <td>10</td>\n",
       "    </tr>\n",
       "    <tr>\n",
       "      <th>2</th>\n",
       "      <td>Добавить блоки рекомендаций товаров на сайт интернет магазина, чтобы повысить конверсию и средний чек заказа</td>\n",
       "      <td>8</td>\n",
       "      <td>3</td>\n",
       "      <td>7</td>\n",
       "      <td>3</td>\n",
       "    </tr>\n",
       "    <tr>\n",
       "      <th>3</th>\n",
       "      <td>Изменить структура категорий, что увеличит конверсию, т.к. пользователи быстрее найдут нужный товар</td>\n",
       "      <td>8</td>\n",
       "      <td>3</td>\n",
       "      <td>3</td>\n",
       "      <td>8</td>\n",
       "    </tr>\n",
       "    <tr>\n",
       "      <th>4</th>\n",
       "      <td>Изменить цвет фона главной страницы, чтобы увеличить вовлеченность пользователей</td>\n",
       "      <td>3</td>\n",
       "      <td>1</td>\n",
       "      <td>1</td>\n",
       "      <td>1</td>\n",
       "    </tr>\n",
       "    <tr>\n",
       "      <th>5</th>\n",
       "      <td>Добавить страницу отзывов клиентов о магазине, что позволит увеличить количество заказов</td>\n",
       "      <td>3</td>\n",
       "      <td>2</td>\n",
       "      <td>2</td>\n",
       "      <td>3</td>\n",
       "    </tr>\n",
       "    <tr>\n",
       "      <th>6</th>\n",
       "      <td>Показать на главной странице баннеры с актуальными акциями и распродажами, чтобы увеличить конверсию</td>\n",
       "      <td>5</td>\n",
       "      <td>3</td>\n",
       "      <td>8</td>\n",
       "      <td>3</td>\n",
       "    </tr>\n",
       "    <tr>\n",
       "      <th>7</th>\n",
       "      <td>Добавить форму подписки на все основные страницы, чтобы собрать базу клиентов для email-рассылок</td>\n",
       "      <td>10</td>\n",
       "      <td>7</td>\n",
       "      <td>8</td>\n",
       "      <td>5</td>\n",
       "    </tr>\n",
       "    <tr>\n",
       "      <th>8</th>\n",
       "      <td>Запустить акцию, дающую скидку на товар в день рождения</td>\n",
       "      <td>1</td>\n",
       "      <td>9</td>\n",
       "      <td>9</td>\n",
       "      <td>5</td>\n",
       "    </tr>\n",
       "  </tbody>\n",
       "</table>\n",
       "</div>"
      ],
      "text/plain": [
       "                                                                                                     Hypothesis  \\\n",
       "0            Добавить два новых канала привлечения трафика, что позволит привлекать на 30% больше пользователей   \n",
       "1                                     Запустить собственную службу доставки, что сократит срок доставки заказов   \n",
       "2  Добавить блоки рекомендаций товаров на сайт интернет магазина, чтобы повысить конверсию и средний чек заказа   \n",
       "3           Изменить структура категорий, что увеличит конверсию, т.к. пользователи быстрее найдут нужный товар   \n",
       "4                              Изменить цвет фона главной страницы, чтобы увеличить вовлеченность пользователей   \n",
       "5                      Добавить страницу отзывов клиентов о магазине, что позволит увеличить количество заказов   \n",
       "6          Показать на главной странице баннеры с актуальными акциями и распродажами, чтобы увеличить конверсию   \n",
       "7              Добавить форму подписки на все основные страницы, чтобы собрать базу клиентов для email-рассылок   \n",
       "8                                                       Запустить акцию, дающую скидку на товар в день рождения   \n",
       "\n",
       "   Reach  Impact  Confidence  Efforts  \n",
       "0      3      10           8        6  \n",
       "1      2       5           4       10  \n",
       "2      8       3           7        3  \n",
       "3      8       3           3        8  \n",
       "4      3       1           1        1  \n",
       "5      3       2           2        3  \n",
       "6      5       3           8        3  \n",
       "7     10       7           8        5  \n",
       "8      1       9           9        5  "
      ]
     },
     "metadata": {},
     "output_type": "display_data"
    }
   ],
   "source": [
    "import pandas as pd\n",
    "import numpy as np\n",
    "import matplotlib.pyplot as plt\n",
    "import scipy.stats as stats\n",
    "import datetime as dt\n",
    "from IPython.display import display\n",
    "\n",
    "from pandas.plotting import register_matplotlib_converters\n",
    "register_matplotlib_converters()\n",
    "\n",
    "data = pd.read_csv('https://code.s3.yandex.net/datasets/hypothesis.csv', sep=',')\n",
    "\n",
    "pd.set_option('display.max_columns', None)\n",
    "pd.options.display.max_colwidth = 150\n",
    "display(data.head(10))"
   ]
  },
  {
   "cell_type": "code",
   "execution_count": 2,
   "metadata": {
    "id": "-ZRwzCrSg8RR",
    "outputId": "34622d7f-e6b8-4894-f9ed-78eafcfe5286"
   },
   "outputs": [
    {
     "data": {
      "text/html": [
       "<div>\n",
       "<style scoped>\n",
       "    .dataframe tbody tr th:only-of-type {\n",
       "        vertical-align: middle;\n",
       "    }\n",
       "\n",
       "    .dataframe tbody tr th {\n",
       "        vertical-align: top;\n",
       "    }\n",
       "\n",
       "    .dataframe thead th {\n",
       "        text-align: right;\n",
       "    }\n",
       "</style>\n",
       "<table border=\"1\" class=\"dataframe\">\n",
       "  <thead>\n",
       "    <tr style=\"text-align: right;\">\n",
       "      <th></th>\n",
       "      <th>Hypothesis</th>\n",
       "      <th>ICE</th>\n",
       "    </tr>\n",
       "  </thead>\n",
       "  <tbody>\n",
       "    <tr>\n",
       "      <th>8</th>\n",
       "      <td>Запустить акцию, дающую скидку на товар в день рождения</td>\n",
       "      <td>16.2</td>\n",
       "    </tr>\n",
       "    <tr>\n",
       "      <th>0</th>\n",
       "      <td>Добавить два новых канала привлечения трафика, что позволит привлекать на 30% больше пользователей</td>\n",
       "      <td>13.3</td>\n",
       "    </tr>\n",
       "    <tr>\n",
       "      <th>7</th>\n",
       "      <td>Добавить форму подписки на все основные страницы, чтобы собрать базу клиентов для email-рассылок</td>\n",
       "      <td>11.2</td>\n",
       "    </tr>\n",
       "    <tr>\n",
       "      <th>6</th>\n",
       "      <td>Показать на главной странице баннеры с актуальными акциями и распродажами, чтобы увеличить конверсию</td>\n",
       "      <td>8.0</td>\n",
       "    </tr>\n",
       "    <tr>\n",
       "      <th>2</th>\n",
       "      <td>Добавить блоки рекомендаций товаров на сайт интернет магазина, чтобы повысить конверсию и средний чек заказа</td>\n",
       "      <td>7.0</td>\n",
       "    </tr>\n",
       "    <tr>\n",
       "      <th>1</th>\n",
       "      <td>Запустить собственную службу доставки, что сократит срок доставки заказов</td>\n",
       "      <td>2.0</td>\n",
       "    </tr>\n",
       "    <tr>\n",
       "      <th>5</th>\n",
       "      <td>Добавить страницу отзывов клиентов о магазине, что позволит увеличить количество заказов</td>\n",
       "      <td>1.3</td>\n",
       "    </tr>\n",
       "    <tr>\n",
       "      <th>3</th>\n",
       "      <td>Изменить структура категорий, что увеличит конверсию, т.к. пользователи быстрее найдут нужный товар</td>\n",
       "      <td>1.1</td>\n",
       "    </tr>\n",
       "    <tr>\n",
       "      <th>4</th>\n",
       "      <td>Изменить цвет фона главной страницы, чтобы увеличить вовлеченность пользователей</td>\n",
       "      <td>1.0</td>\n",
       "    </tr>\n",
       "  </tbody>\n",
       "</table>\n",
       "</div>"
      ],
      "text/plain": [
       "                                                                                                     Hypothesis  \\\n",
       "8                                                       Запустить акцию, дающую скидку на товар в день рождения   \n",
       "0            Добавить два новых канала привлечения трафика, что позволит привлекать на 30% больше пользователей   \n",
       "7              Добавить форму подписки на все основные страницы, чтобы собрать базу клиентов для email-рассылок   \n",
       "6          Показать на главной странице баннеры с актуальными акциями и распродажами, чтобы увеличить конверсию   \n",
       "2  Добавить блоки рекомендаций товаров на сайт интернет магазина, чтобы повысить конверсию и средний чек заказа   \n",
       "1                                     Запустить собственную службу доставки, что сократит срок доставки заказов   \n",
       "5                      Добавить страницу отзывов клиентов о магазине, что позволит увеличить количество заказов   \n",
       "3           Изменить структура категорий, что увеличит конверсию, т.к. пользователи быстрее найдут нужный товар   \n",
       "4                              Изменить цвет фона главной страницы, чтобы увеличить вовлеченность пользователей   \n",
       "\n",
       "    ICE  \n",
       "8  16.2  \n",
       "0  13.3  \n",
       "7  11.2  \n",
       "6   8.0  \n",
       "2   7.0  \n",
       "1   2.0  \n",
       "5   1.3  \n",
       "3   1.1  \n",
       "4   1.0  "
      ]
     },
     "metadata": {},
     "output_type": "display_data"
    }
   ],
   "source": [
    "data['ICE'] = (data['Impact'] * data['Confidence']) / data['Efforts']\n",
    "ice = data[['Hypothesis', 'ICE']]\n",
    "display(ice.sort_values(by='ICE', ascending=False).round(1))"
   ]
  },
  {
   "cell_type": "markdown",
   "metadata": {
    "id": "0ARTa59eg8RS"
   },
   "source": [
    "По методу приоретизациии задач ICE гипотезы 8,0 и 7 наиболее перспективны. Гипотезы 1,5,3 и 4 не в приоритете."
   ]
  },
  {
   "cell_type": "code",
   "execution_count": 3,
   "metadata": {
    "id": "bwe92eP_g8RS",
    "outputId": "3a0d0111-0cc3-4989-cb95-6ccee0283230",
    "scrolled": true
   },
   "outputs": [
    {
     "data": {
      "text/html": [
       "<div>\n",
       "<style scoped>\n",
       "    .dataframe tbody tr th:only-of-type {\n",
       "        vertical-align: middle;\n",
       "    }\n",
       "\n",
       "    .dataframe tbody tr th {\n",
       "        vertical-align: top;\n",
       "    }\n",
       "\n",
       "    .dataframe thead th {\n",
       "        text-align: right;\n",
       "    }\n",
       "</style>\n",
       "<table border=\"1\" class=\"dataframe\">\n",
       "  <thead>\n",
       "    <tr style=\"text-align: right;\">\n",
       "      <th></th>\n",
       "      <th>Hypothesis</th>\n",
       "      <th>RICE</th>\n",
       "    </tr>\n",
       "  </thead>\n",
       "  <tbody>\n",
       "    <tr>\n",
       "      <th>7</th>\n",
       "      <td>Добавить форму подписки на все основные страницы, чтобы собрать базу клиентов для email-рассылок</td>\n",
       "      <td>112.0</td>\n",
       "    </tr>\n",
       "    <tr>\n",
       "      <th>2</th>\n",
       "      <td>Добавить блоки рекомендаций товаров на сайт интернет магазина, чтобы повысить конверсию и средний чек заказа</td>\n",
       "      <td>56.0</td>\n",
       "    </tr>\n",
       "    <tr>\n",
       "      <th>0</th>\n",
       "      <td>Добавить два новых канала привлечения трафика, что позволит привлекать на 30% больше пользователей</td>\n",
       "      <td>40.0</td>\n",
       "    </tr>\n",
       "    <tr>\n",
       "      <th>6</th>\n",
       "      <td>Показать на главной странице баннеры с актуальными акциями и распродажами, чтобы увеличить конверсию</td>\n",
       "      <td>40.0</td>\n",
       "    </tr>\n",
       "    <tr>\n",
       "      <th>8</th>\n",
       "      <td>Запустить акцию, дающую скидку на товар в день рождения</td>\n",
       "      <td>16.2</td>\n",
       "    </tr>\n",
       "    <tr>\n",
       "      <th>3</th>\n",
       "      <td>Изменить структура категорий, что увеличит конверсию, т.к. пользователи быстрее найдут нужный товар</td>\n",
       "      <td>9.0</td>\n",
       "    </tr>\n",
       "    <tr>\n",
       "      <th>1</th>\n",
       "      <td>Запустить собственную службу доставки, что сократит срок доставки заказов</td>\n",
       "      <td>4.0</td>\n",
       "    </tr>\n",
       "    <tr>\n",
       "      <th>5</th>\n",
       "      <td>Добавить страницу отзывов клиентов о магазине, что позволит увеличить количество заказов</td>\n",
       "      <td>4.0</td>\n",
       "    </tr>\n",
       "    <tr>\n",
       "      <th>4</th>\n",
       "      <td>Изменить цвет фона главной страницы, чтобы увеличить вовлеченность пользователей</td>\n",
       "      <td>3.0</td>\n",
       "    </tr>\n",
       "  </tbody>\n",
       "</table>\n",
       "</div>"
      ],
      "text/plain": [
       "                                                                                                     Hypothesis  \\\n",
       "7              Добавить форму подписки на все основные страницы, чтобы собрать базу клиентов для email-рассылок   \n",
       "2  Добавить блоки рекомендаций товаров на сайт интернет магазина, чтобы повысить конверсию и средний чек заказа   \n",
       "0            Добавить два новых канала привлечения трафика, что позволит привлекать на 30% больше пользователей   \n",
       "6          Показать на главной странице баннеры с актуальными акциями и распродажами, чтобы увеличить конверсию   \n",
       "8                                                       Запустить акцию, дающую скидку на товар в день рождения   \n",
       "3           Изменить структура категорий, что увеличит конверсию, т.к. пользователи быстрее найдут нужный товар   \n",
       "1                                     Запустить собственную службу доставки, что сократит срок доставки заказов   \n",
       "5                      Добавить страницу отзывов клиентов о магазине, что позволит увеличить количество заказов   \n",
       "4                              Изменить цвет фона главной страницы, чтобы увеличить вовлеченность пользователей   \n",
       "\n",
       "    RICE  \n",
       "7  112.0  \n",
       "2   56.0  \n",
       "0   40.0  \n",
       "6   40.0  \n",
       "8   16.2  \n",
       "3    9.0  \n",
       "1    4.0  \n",
       "5    4.0  \n",
       "4    3.0  "
      ]
     },
     "metadata": {},
     "output_type": "display_data"
    }
   ],
   "source": [
    "data['RICE'] = (data['Reach'] * data['Impact'] * data['Confidence']) / data['Efforts']\n",
    "rice = data[['Hypothesis', 'RICE']]\n",
    "display(rice.sort_values(by='RICE', ascending=False))"
   ]
  },
  {
   "cell_type": "code",
   "execution_count": 30,
   "metadata": {
    "id": "N83R7ypzg8RS",
    "outputId": "8cfdfa73-5107-45f5-a38b-786b95febdb3"
   },
   "outputs": [
    {
     "data": {
      "text/html": [
       "<style  type=\"text/css\" >\n",
       "#T_38ca0_row0_col1{\n",
       "            background-color:  #f7b79b;\n",
       "            color:  #000000;\n",
       "        }#T_38ca0_row0_col2,#T_38ca0_row4_col1{\n",
       "            background-color:  #b40426;\n",
       "            color:  #f1f1f1;\n",
       "        }#T_38ca0_row1_col1{\n",
       "            background-color:  #bfd3f6;\n",
       "            color:  #000000;\n",
       "        }#T_38ca0_row1_col2{\n",
       "            background-color:  #d9dce1;\n",
       "            color:  #000000;\n",
       "        }#T_38ca0_row2_col1{\n",
       "            background-color:  #ec7f63;\n",
       "            color:  #000000;\n",
       "        }#T_38ca0_row2_col2,#T_38ca0_row3_col2{\n",
       "            background-color:  #abc8fd;\n",
       "            color:  #000000;\n",
       "        }#T_38ca0_row3_col1{\n",
       "            background-color:  #d2dbe8;\n",
       "            color:  #000000;\n",
       "        }#T_38ca0_row4_col2{\n",
       "            background-color:  #6180e9;\n",
       "            color:  #000000;\n",
       "        }#T_38ca0_row5_col1{\n",
       "            background-color:  #3c4ec2;\n",
       "            color:  #f1f1f1;\n",
       "        }#T_38ca0_row5_col2{\n",
       "            background-color:  #4b64d5;\n",
       "            color:  #f1f1f1;\n",
       "        }#T_38ca0_row6_col1{\n",
       "            background-color:  #4e68d8;\n",
       "            color:  #000000;\n",
       "        }#T_38ca0_row6_col2,#T_38ca0_row7_col2{\n",
       "            background-color:  #3d50c3;\n",
       "            color:  #f1f1f1;\n",
       "        }#T_38ca0_row7_col1{\n",
       "            background-color:  #4055c8;\n",
       "            color:  #f1f1f1;\n",
       "        }#T_38ca0_row8_col1,#T_38ca0_row8_col2{\n",
       "            background-color:  #3b4cc0;\n",
       "            color:  #f1f1f1;\n",
       "        }</style><table id=\"T_38ca0_\" ><thead>    <tr>        <th class=\"blank level0\" ></th>        <th class=\"col_heading level0 col0\" >Hypothesis</th>        <th class=\"col_heading level0 col1\" >ICE</th>        <th class=\"col_heading level0 col2\" >RICE</th>    </tr></thead><tbody>\n",
       "                <tr>\n",
       "                        <th id=\"T_38ca0_level0_row0\" class=\"row_heading level0 row0\" >7</th>\n",
       "                        <td id=\"T_38ca0_row0_col0\" class=\"data row0 col0\" >Добавить форму подписки на все основные страницы, чтобы собрать базу клиентов для email-рассылок</td>\n",
       "                        <td id=\"T_38ca0_row0_col1\" class=\"data row0 col1\" >11.200000</td>\n",
       "                        <td id=\"T_38ca0_row0_col2\" class=\"data row0 col2\" >112.000000</td>\n",
       "            </tr>\n",
       "            <tr>\n",
       "                        <th id=\"T_38ca0_level0_row1\" class=\"row_heading level0 row1\" >2</th>\n",
       "                        <td id=\"T_38ca0_row1_col0\" class=\"data row1 col0\" >Добавить блоки рекомендаций товаров на сайт интернет магазина, чтобы повысить конверсию и средний чек заказа</td>\n",
       "                        <td id=\"T_38ca0_row1_col1\" class=\"data row1 col1\" >7.000000</td>\n",
       "                        <td id=\"T_38ca0_row1_col2\" class=\"data row1 col2\" >56.000000</td>\n",
       "            </tr>\n",
       "            <tr>\n",
       "                        <th id=\"T_38ca0_level0_row2\" class=\"row_heading level0 row2\" >0</th>\n",
       "                        <td id=\"T_38ca0_row2_col0\" class=\"data row2 col0\" >Добавить два новых канала привлечения трафика, что позволит привлекать на 30% больше пользователей</td>\n",
       "                        <td id=\"T_38ca0_row2_col1\" class=\"data row2 col1\" >13.300000</td>\n",
       "                        <td id=\"T_38ca0_row2_col2\" class=\"data row2 col2\" >40.000000</td>\n",
       "            </tr>\n",
       "            <tr>\n",
       "                        <th id=\"T_38ca0_level0_row3\" class=\"row_heading level0 row3\" >6</th>\n",
       "                        <td id=\"T_38ca0_row3_col0\" class=\"data row3 col0\" >Показать на главной странице баннеры с актуальными акциями и распродажами, чтобы увеличить конверсию</td>\n",
       "                        <td id=\"T_38ca0_row3_col1\" class=\"data row3 col1\" >8.000000</td>\n",
       "                        <td id=\"T_38ca0_row3_col2\" class=\"data row3 col2\" >40.000000</td>\n",
       "            </tr>\n",
       "            <tr>\n",
       "                        <th id=\"T_38ca0_level0_row4\" class=\"row_heading level0 row4\" >8</th>\n",
       "                        <td id=\"T_38ca0_row4_col0\" class=\"data row4 col0\" >Запустить акцию, дающую скидку на товар в день рождения</td>\n",
       "                        <td id=\"T_38ca0_row4_col1\" class=\"data row4 col1\" >16.200000</td>\n",
       "                        <td id=\"T_38ca0_row4_col2\" class=\"data row4 col2\" >16.200000</td>\n",
       "            </tr>\n",
       "            <tr>\n",
       "                        <th id=\"T_38ca0_level0_row5\" class=\"row_heading level0 row5\" >3</th>\n",
       "                        <td id=\"T_38ca0_row5_col0\" class=\"data row5 col0\" >Изменить структура категорий, что увеличит конверсию, т.к. пользователи быстрее найдут нужный товар</td>\n",
       "                        <td id=\"T_38ca0_row5_col1\" class=\"data row5 col1\" >1.100000</td>\n",
       "                        <td id=\"T_38ca0_row5_col2\" class=\"data row5 col2\" >9.000000</td>\n",
       "            </tr>\n",
       "            <tr>\n",
       "                        <th id=\"T_38ca0_level0_row6\" class=\"row_heading level0 row6\" >1</th>\n",
       "                        <td id=\"T_38ca0_row6_col0\" class=\"data row6 col0\" >Запустить собственную службу доставки, что сократит срок доставки заказов</td>\n",
       "                        <td id=\"T_38ca0_row6_col1\" class=\"data row6 col1\" >2.000000</td>\n",
       "                        <td id=\"T_38ca0_row6_col2\" class=\"data row6 col2\" >4.000000</td>\n",
       "            </tr>\n",
       "            <tr>\n",
       "                        <th id=\"T_38ca0_level0_row7\" class=\"row_heading level0 row7\" >5</th>\n",
       "                        <td id=\"T_38ca0_row7_col0\" class=\"data row7 col0\" >Добавить страницу отзывов клиентов о магазине, что позволит увеличить количество заказов</td>\n",
       "                        <td id=\"T_38ca0_row7_col1\" class=\"data row7 col1\" >1.300000</td>\n",
       "                        <td id=\"T_38ca0_row7_col2\" class=\"data row7 col2\" >4.000000</td>\n",
       "            </tr>\n",
       "            <tr>\n",
       "                        <th id=\"T_38ca0_level0_row8\" class=\"row_heading level0 row8\" >4</th>\n",
       "                        <td id=\"T_38ca0_row8_col0\" class=\"data row8 col0\" >Изменить цвет фона главной страницы, чтобы увеличить вовлеченность пользователей</td>\n",
       "                        <td id=\"T_38ca0_row8_col1\" class=\"data row8 col1\" >1.000000</td>\n",
       "                        <td id=\"T_38ca0_row8_col2\" class=\"data row8 col2\" >3.000000</td>\n",
       "            </tr>\n",
       "    </tbody></table>"
      ],
      "text/plain": [
       "<pandas.io.formats.style.Styler at 0x25eaa9815b0>"
      ]
     },
     "metadata": {},
     "output_type": "display_data"
    }
   ],
   "source": [
    "total = ice.merge(rice, on='Hypothesis')\n",
    "display(total.sort_values(by='RICE', ascending=False).round(1).style.background_gradient('coolwarm'))"
   ]
  },
  {
   "cell_type": "markdown",
   "metadata": {
    "id": "Q242wA1qg8RT"
   },
   "source": [
    "По методу приоретизациии задач RICE гипотеза 7 явный лидер, а гипотезы 2,0 и 6 также перспективны. Гипотезы 3,1,5 и 4 как и с методом ICE не в приоритете."
   ]
  },
  {
   "cell_type": "markdown",
   "metadata": {
    "id": "xHIJbSaag8RT"
   },
   "source": [
    "**Вывод по приоретизации гипотезы:**\n",
    "\n",
    "Гипотеза (7) - добавления формы подписки на все основные страницы и гипотеза (0) - добавления двух новых каналов привлечения трафика имеют имеют самый большой приоритет, т.к показатели ICE и RICE высоки.\n",
    "\n",
    "Также вполне рабочие гипотезы: гипотеза (2) - добавить блоки рекомендаций товаров на сайт интернет магазина и гипотеза (6) - показать на главной странице баннеры с актуальными акциями и распродажами у данных гипотез высокие показатели RICE за счёт reach. Гипотезу (8) - запустить акцию, дающую скидку на товар в день рождения, тоже можно считать рабочей т.к показатель ICE у неё наибольший. \n",
    "Остальные гипотезы явно не в приоритете."
   ]
  },
  {
   "cell_type": "markdown",
   "metadata": {
    "id": "EUzVpFnbg8RU"
   },
   "source": [
    "# Шаг 2. Анализ A/B-теста."
   ]
  },
  {
   "cell_type": "code",
   "execution_count": 5,
   "metadata": {
    "id": "40t6ZFnAg8RU",
    "outputId": "655b18bc-10db-48da-b647-577e85de448e"
   },
   "outputs": [
    {
     "data": {
      "text/html": [
       "<div>\n",
       "<style scoped>\n",
       "    .dataframe tbody tr th:only-of-type {\n",
       "        vertical-align: middle;\n",
       "    }\n",
       "\n",
       "    .dataframe tbody tr th {\n",
       "        vertical-align: top;\n",
       "    }\n",
       "\n",
       "    .dataframe thead th {\n",
       "        text-align: right;\n",
       "    }\n",
       "</style>\n",
       "<table border=\"1\" class=\"dataframe\">\n",
       "  <thead>\n",
       "    <tr style=\"text-align: right;\">\n",
       "      <th></th>\n",
       "      <th>transactionId</th>\n",
       "      <th>visitorId</th>\n",
       "      <th>date</th>\n",
       "      <th>revenue</th>\n",
       "      <th>group</th>\n",
       "    </tr>\n",
       "  </thead>\n",
       "  <tbody>\n",
       "    <tr>\n",
       "      <th>0</th>\n",
       "      <td>3667963787</td>\n",
       "      <td>3312258926</td>\n",
       "      <td>2019-08-15</td>\n",
       "      <td>1650</td>\n",
       "      <td>B</td>\n",
       "    </tr>\n",
       "    <tr>\n",
       "      <th>1</th>\n",
       "      <td>2804400009</td>\n",
       "      <td>3642806036</td>\n",
       "      <td>2019-08-15</td>\n",
       "      <td>730</td>\n",
       "      <td>B</td>\n",
       "    </tr>\n",
       "    <tr>\n",
       "      <th>2</th>\n",
       "      <td>2961555356</td>\n",
       "      <td>4069496402</td>\n",
       "      <td>2019-08-15</td>\n",
       "      <td>400</td>\n",
       "      <td>A</td>\n",
       "    </tr>\n",
       "    <tr>\n",
       "      <th>3</th>\n",
       "      <td>3797467345</td>\n",
       "      <td>1196621759</td>\n",
       "      <td>2019-08-15</td>\n",
       "      <td>9759</td>\n",
       "      <td>B</td>\n",
       "    </tr>\n",
       "    <tr>\n",
       "      <th>4</th>\n",
       "      <td>2282983706</td>\n",
       "      <td>2322279887</td>\n",
       "      <td>2019-08-15</td>\n",
       "      <td>2308</td>\n",
       "      <td>B</td>\n",
       "    </tr>\n",
       "  </tbody>\n",
       "</table>\n",
       "</div>"
      ],
      "text/plain": [
       "   transactionId   visitorId       date  revenue group\n",
       "0     3667963787  3312258926 2019-08-15     1650     B\n",
       "1     2804400009  3642806036 2019-08-15      730     B\n",
       "2     2961555356  4069496402 2019-08-15      400     A\n",
       "3     3797467345  1196621759 2019-08-15     9759     B\n",
       "4     2282983706  2322279887 2019-08-15     2308     B"
      ]
     },
     "metadata": {},
     "output_type": "display_data"
    },
    {
     "name": "stdout",
     "output_type": "stream",
     "text": [
      "<class 'pandas.core.frame.DataFrame'>\n",
      "RangeIndex: 1197 entries, 0 to 1196\n",
      "Data columns (total 5 columns):\n",
      " #   Column         Non-Null Count  Dtype         \n",
      "---  ------         --------------  -----         \n",
      " 0   transactionId  1197 non-null   int64         \n",
      " 1   visitorId      1197 non-null   int64         \n",
      " 2   date           1197 non-null   datetime64[ns]\n",
      " 3   revenue        1197 non-null   int64         \n",
      " 4   group          1197 non-null   object        \n",
      "dtypes: datetime64[ns](1), int64(3), object(1)\n",
      "memory usage: 46.9+ KB\n"
     ]
    },
    {
     "data": {
      "text/plain": [
       "None"
      ]
     },
     "metadata": {},
     "output_type": "display_data"
    }
   ],
   "source": [
    "orders = pd.read_csv('https://code.s3.yandex.net/datasets/orders.csv', sep=',')\n",
    "#такой вариант не работает\n",
    "#orders['date'] = orders['date'].map(lambda x: dt.datetime.strptime(x, '%d/%m/%Y'))\n",
    "orders['date'] = pd.to_datetime(orders['date'], format= '%Y-%m-%d')\n",
    "display(orders.head())\n",
    "display(orders.info())"
   ]
  },
  {
   "cell_type": "code",
   "execution_count": 6,
   "metadata": {
    "id": "MufZ5aLrg8RV",
    "outputId": "4199d2a1-c463-4b42-b816-7c2a6b8c31ac"
   },
   "outputs": [
    {
     "name": "stdout",
     "output_type": "stream",
     "text": [
      "2019-08-01 00:00:00\n",
      "2019-08-31 00:00:00\n",
      "0\n"
     ]
    }
   ],
   "source": [
    "#определим период когда делали заказы\n",
    "print(orders['date'].min())\n",
    "print(orders['date'].max())\n",
    "#определяем дубликаты\n",
    "print(orders.duplicated().sum())"
   ]
  },
  {
   "cell_type": "code",
   "execution_count": 7,
   "metadata": {
    "id": "K_Amie51g8RV",
    "outputId": "22090e73-20d0-44ea-d927-a936ac02b951"
   },
   "outputs": [
    {
     "name": "stdout",
     "output_type": "stream",
     "text": [
      "visitorId    1031\n",
      "group        1031\n",
      "dtype: int64\n",
      "index        58\n",
      "visitorId    58\n",
      "group        58\n",
      "dtype: int64\n"
     ]
    }
   ],
   "source": [
    "#число уникальных пользователей\n",
    "unique_visitor = (orders.groupby('visitorId').agg({'group':'nunique'})).reset_index()\n",
    "print(unique_visitor.count())\n",
    "#число пользователей сделавших заказ в двух группах\n",
    "no_unique_visitor = unique_visitor.query('group > 1').reset_index()\n",
    "print(no_unique_visitor.count())"
   ]
  },
  {
   "cell_type": "code",
   "execution_count": 8,
   "metadata": {
    "id": "rHwRBma8g8RV",
    "outputId": "151446aa-d44f-4858-9efc-e96d0a6803c7",
    "scrolled": true
   },
   "outputs": [
    {
     "data": {
      "text/html": [
       "<div>\n",
       "<style scoped>\n",
       "    .dataframe tbody tr th:only-of-type {\n",
       "        vertical-align: middle;\n",
       "    }\n",
       "\n",
       "    .dataframe tbody tr th {\n",
       "        vertical-align: top;\n",
       "    }\n",
       "\n",
       "    .dataframe thead th {\n",
       "        text-align: right;\n",
       "    }\n",
       "</style>\n",
       "<table border=\"1\" class=\"dataframe\">\n",
       "  <thead>\n",
       "    <tr style=\"text-align: right;\">\n",
       "      <th></th>\n",
       "      <th>date</th>\n",
       "      <th>group</th>\n",
       "      <th>visitors</th>\n",
       "    </tr>\n",
       "  </thead>\n",
       "  <tbody>\n",
       "    <tr>\n",
       "      <th>0</th>\n",
       "      <td>2019-08-01</td>\n",
       "      <td>A</td>\n",
       "      <td>719</td>\n",
       "    </tr>\n",
       "    <tr>\n",
       "      <th>1</th>\n",
       "      <td>2019-08-02</td>\n",
       "      <td>A</td>\n",
       "      <td>619</td>\n",
       "    </tr>\n",
       "    <tr>\n",
       "      <th>2</th>\n",
       "      <td>2019-08-03</td>\n",
       "      <td>A</td>\n",
       "      <td>507</td>\n",
       "    </tr>\n",
       "    <tr>\n",
       "      <th>3</th>\n",
       "      <td>2019-08-04</td>\n",
       "      <td>A</td>\n",
       "      <td>717</td>\n",
       "    </tr>\n",
       "    <tr>\n",
       "      <th>4</th>\n",
       "      <td>2019-08-05</td>\n",
       "      <td>A</td>\n",
       "      <td>756</td>\n",
       "    </tr>\n",
       "  </tbody>\n",
       "</table>\n",
       "</div>"
      ],
      "text/plain": [
       "        date group  visitors\n",
       "0 2019-08-01     A       719\n",
       "1 2019-08-02     A       619\n",
       "2 2019-08-03     A       507\n",
       "3 2019-08-04     A       717\n",
       "4 2019-08-05     A       756"
      ]
     },
     "metadata": {},
     "output_type": "display_data"
    },
    {
     "name": "stdout",
     "output_type": "stream",
     "text": [
      "<class 'pandas.core.frame.DataFrame'>\n",
      "RangeIndex: 62 entries, 0 to 61\n",
      "Data columns (total 3 columns):\n",
      " #   Column    Non-Null Count  Dtype         \n",
      "---  ------    --------------  -----         \n",
      " 0   date      62 non-null     datetime64[ns]\n",
      " 1   group     62 non-null     object        \n",
      " 2   visitors  62 non-null     int64         \n",
      "dtypes: datetime64[ns](1), int64(1), object(1)\n",
      "memory usage: 1.6+ KB\n"
     ]
    },
    {
     "data": {
      "text/plain": [
       "None"
      ]
     },
     "metadata": {},
     "output_type": "display_data"
    }
   ],
   "source": [
    "visitors = pd.read_csv('https://code.s3.yandex.net/datasets/visitors.csv', sep=',')\n",
    "#такой вариант не работает\n",
    "#visitors['date'] = visitors['date'].map(lambda x: dt.datetime.strptime(x, '%Y/%m/%d'))\n",
    "visitors['date'] = pd.to_datetime(visitors['date'], format= '%Y-%m-%d')\n",
    "display(visitors.head())\n",
    "display(visitors.info())"
   ]
  },
  {
   "cell_type": "code",
   "execution_count": 9,
   "metadata": {
    "id": "E8DSBU0Ng8RW",
    "outputId": "569e2471-8490-4751-a475-f0eab0480269"
   },
   "outputs": [
    {
     "name": "stdout",
     "output_type": "stream",
     "text": [
      "2019-08-01 00:00:00\n",
      "2019-08-31 00:00:00\n",
      "0\n"
     ]
    }
   ],
   "source": [
    "#определим период когда заходили посетители\n",
    "print(visitors['date'].min())\n",
    "print(visitors['date'].max())\n",
    "#определяем дубликаты\n",
    "print(visitors.duplicated().sum())"
   ]
  },
  {
   "cell_type": "markdown",
   "metadata": {
    "id": "rsSc0gWhg8RW"
   },
   "source": [
    "**Вывод по преобработке данных:**\n",
    "\n",
    "Всего записей по 1197 заказам у 1031 уникального пользователя. Совсем небольшая доля 58 пользователей сделали заказ в группах А и В. Удалять данных пользователей считаю не нужно, т.к не совсем известно сколько визитов сделали данные пользователи перед покупкой, при этом количество пользователей в обеих группах небольшое и не должно кардинально изменить ситуацию. Данные представлены за август 19 года. В данных остутсвуют дубликаты и пропуски. Дата имеет тип данных - object, перевели столбец в datetime.  "
   ]
  },
  {
   "cell_type": "markdown",
   "metadata": {
    "id": "aAVxFh9sg8RX"
   },
   "source": [
    "# 2.1 График кумулятивной выручки по группам."
   ]
  },
  {
   "cell_type": "code",
   "execution_count": 10,
   "metadata": {
    "id": "VEx1NNA6g8RX",
    "outputId": "d413c48f-2a17-4ad7-b40c-ed286dc9a190"
   },
   "outputs": [
    {
     "data": {
      "text/html": [
       "<div>\n",
       "<style scoped>\n",
       "    .dataframe tbody tr th:only-of-type {\n",
       "        vertical-align: middle;\n",
       "    }\n",
       "\n",
       "    .dataframe tbody tr th {\n",
       "        vertical-align: top;\n",
       "    }\n",
       "\n",
       "    .dataframe thead th {\n",
       "        text-align: right;\n",
       "    }\n",
       "</style>\n",
       "<table border=\"1\" class=\"dataframe\">\n",
       "  <thead>\n",
       "    <tr style=\"text-align: right;\">\n",
       "      <th></th>\n",
       "      <th>date</th>\n",
       "      <th>group</th>\n",
       "      <th>orders</th>\n",
       "      <th>buyers</th>\n",
       "      <th>revenue</th>\n",
       "      <th>visitors</th>\n",
       "    </tr>\n",
       "  </thead>\n",
       "  <tbody>\n",
       "    <tr>\n",
       "      <th>0</th>\n",
       "      <td>2019-08-01</td>\n",
       "      <td>A</td>\n",
       "      <td>24</td>\n",
       "      <td>20</td>\n",
       "      <td>148579</td>\n",
       "      <td>719</td>\n",
       "    </tr>\n",
       "    <tr>\n",
       "      <th>1</th>\n",
       "      <td>2019-08-01</td>\n",
       "      <td>B</td>\n",
       "      <td>21</td>\n",
       "      <td>20</td>\n",
       "      <td>101217</td>\n",
       "      <td>713</td>\n",
       "    </tr>\n",
       "    <tr>\n",
       "      <th>2</th>\n",
       "      <td>2019-08-02</td>\n",
       "      <td>A</td>\n",
       "      <td>44</td>\n",
       "      <td>38</td>\n",
       "      <td>242401</td>\n",
       "      <td>1338</td>\n",
       "    </tr>\n",
       "    <tr>\n",
       "      <th>3</th>\n",
       "      <td>2019-08-02</td>\n",
       "      <td>B</td>\n",
       "      <td>45</td>\n",
       "      <td>43</td>\n",
       "      <td>266748</td>\n",
       "      <td>1294</td>\n",
       "    </tr>\n",
       "    <tr>\n",
       "      <th>4</th>\n",
       "      <td>2019-08-03</td>\n",
       "      <td>A</td>\n",
       "      <td>68</td>\n",
       "      <td>62</td>\n",
       "      <td>354874</td>\n",
       "      <td>1845</td>\n",
       "    </tr>\n",
       "  </tbody>\n",
       "</table>\n",
       "</div>"
      ],
      "text/plain": [
       "        date group  orders  buyers  revenue  visitors\n",
       "0 2019-08-01     A      24      20   148579       719\n",
       "1 2019-08-01     B      21      20   101217       713\n",
       "2 2019-08-02     A      44      38   242401      1338\n",
       "3 2019-08-02     B      45      43   266748      1294\n",
       "4 2019-08-03     A      68      62   354874      1845"
      ]
     },
     "metadata": {},
     "output_type": "display_data"
    }
   ],
   "source": [
    "#создаем массив уникальных пар значений дат и групп теста\n",
    "datesGroups = orders[['date', 'group']].drop_duplicates()\n",
    "#cоберём агрегированные кумулятивные по дням данные\n",
    "ordersAggregated = datesGroups.apply(\n",
    "    lambda x: orders[\n",
    "        np.logical_and(\n",
    "            orders['date'] <= x['date'], orders['group'] == x['group']\n",
    "        )\n",
    "    ].agg(\n",
    "        {\n",
    "            'date': 'max',\n",
    "            'group': 'max',\n",
    "            'transactionId': pd.Series.nunique,\n",
    "            'visitorId': pd.Series.nunique,\n",
    "            'revenue': 'sum',\n",
    "        }\n",
    "    ),\n",
    "    axis=1,\n",
    ").sort_values(by=['date', 'group'])\n",
    "\n",
    "visitorsAggregated = datesGroups.apply(\n",
    "    lambda x: visitors[\n",
    "        np.logical_and(\n",
    "            visitors['date'] <= x['date'], visitors['group'] == x['group']\n",
    "        )\n",
    "    ].agg({'date': 'max', 'group': 'max', 'visitors': 'sum'}),\n",
    "    axis=1,\n",
    ").sort_values(by=['date', 'group'])\n",
    "#объединяем в одну таблицу и переминовываем столбцы\n",
    "cumulativeData = ordersAggregated.merge(\n",
    "    visitorsAggregated, left_on=['date', 'group'], right_on=['date', 'group']\n",
    ")\n",
    "cumulativeData.columns = [\n",
    "    'date',\n",
    "    'group',\n",
    "    'orders',\n",
    "    'buyers',\n",
    "    'revenue',\n",
    "    'visitors',\n",
    "]\n",
    "\n",
    "display(cumulativeData.head(5))"
   ]
  },
  {
   "cell_type": "code",
   "execution_count": 11,
   "metadata": {
    "id": "2GaJPtjxg8RX",
    "outputId": "6397af32-f7c1-447c-8ffa-973cc3f436ac"
   },
   "outputs": [
    {
     "data": {
      "image/png": "[encoded data removed]",
      "text/plain": [
       "<Figure size 720x432 with 1 Axes>"
      ]
     },
     "metadata": {
      "needs_background": "light"
     },
     "output_type": "display_data"
    }
   ],
   "source": [
    "#строим графики кумулятивной выручки по группам\n",
    "#создаем датафреймы с кумулятивным количеством заказов и кумулятивной выручкой\n",
    "cumulativeRevenueA = cumulativeData[cumulativeData['group']=='A'][['date','revenue', 'orders']]\n",
    "cumulativeRevenueB = cumulativeData[cumulativeData['group']=='B'][['date','revenue', 'orders']]\n",
    "#Строим график выручки\n",
    "plt.figure(figsize=(10, 6))\n",
    "plt.plot(cumulativeRevenueA['date'], cumulativeRevenueA['revenue'], label='A')\n",
    "plt.plot(cumulativeRevenueB['date'], cumulativeRevenueB['revenue'], label='B')\n",
    "plt.title('График кумулятивной выручки по группам', fontsize=15)\n",
    "plt.ylabel('Выручка в рублях', fontsize=15)\n",
    "plt.xlabel('Дни', fontsize=15)\n",
    "plt.annotate('скачок', xy=('2019-08-17', 2800000), xytext=('2019-08-10', 3500000),\n",
    "            arrowprops=dict(facecolor='g'))\n",
    "plt.annotate('отрыв', xy=('2019-08-05', 800000), xytext=('2019-08-05', 2000000),\n",
    "            arrowprops=dict(facecolor='g'))\n",
    "plt.legend()\n",
    "plt.show()"
   ]
  },
  {
   "cell_type": "markdown",
   "metadata": {
    "id": "SrBt6YHmg8RY"
   },
   "source": [
    "**Вывод по кумулятивной выручке по группам:**\n",
    "\n",
    "До середины теста выручка групп А и В примерно равномерно растёт, но в середине теста идёт активый рост выручки у группы В. Вероятно на это влияют аномально большие заказы."
   ]
  },
  {
   "cell_type": "markdown",
   "metadata": {
    "id": "lZCyZNNYg8RZ"
   },
   "source": [
    "# 2.2 График кумулятивного среднего чека по группам."
   ]
  },
  {
   "cell_type": "code",
   "execution_count": 12,
   "metadata": {
    "id": "ciK723Qbg8RZ",
    "outputId": "efeb081b-7618-42bd-9810-ed4da35beb69"
   },
   "outputs": [
    {
     "data": {
      "image/png": "[encoded data removed]",
      "text/plain": [
       "<Figure size 720x432 with 1 Axes>"
      ]
     },
     "metadata": {
      "needs_background": "light"
     },
     "output_type": "display_data"
    }
   ],
   "source": [
    "#строим график кумулятивного среднего чека по группам\n",
    "plt.figure(figsize=(10, 6))\n",
    "plt.plot(cumulativeRevenueA['date'], cumulativeRevenueA['revenue']/cumulativeRevenueA['orders'], label='A')\n",
    "plt.plot(cumulativeRevenueB['date'], cumulativeRevenueB['revenue']/cumulativeRevenueB['orders'], label='B')\n",
    "plt.title('График кумулятивного среднего чека по группам', fontsize=15)\n",
    "plt.ylabel('Средний чек в рублях', fontsize=15)\n",
    "plt.xlabel('Дни', fontsize=15)\n",
    "plt.annotate('скачок', xy=('2019-08-17', 7500), xytext=('2019-08-10', 8500),\n",
    "            arrowprops=dict(facecolor='g'))\n",
    "plt.legend()\n",
    "plt.show()"
   ]
  },
  {
   "cell_type": "markdown",
   "metadata": {
    "id": "vVHokk1kg8Ra"
   },
   "source": [
    "**Вывод кумулятивного среднего чека по группам:**\n",
    "\n",
    "Данные среднего чека у групп А и B сильно отличаются, а в середине теста средний чек группы B резко растёт, как и в случае с выручкой. Требуется дополнительный анализ выбросов, чтобы определить подобную разницу."
   ]
  },
  {
   "cell_type": "markdown",
   "metadata": {
    "id": "Iulo5Vqqg8Ra"
   },
   "source": [
    "# 2.3 График относительного изменения кумулятивного среднего чека."
   ]
  },
  {
   "cell_type": "code",
   "execution_count": 13,
   "metadata": {
    "id": "3DImqg9Kg8Ra",
    "outputId": "90d2b232-2182-441f-8496-51ea54d9a442"
   },
   "outputs": [
    {
     "data": {
      "image/png": "[encoded data removed]",
      "text/plain": [
       "<Figure size 720x432 with 1 Axes>"
      ]
     },
     "metadata": {
      "needs_background": "light"
     },
     "output_type": "display_data"
    }
   ],
   "source": [
    "#объединяем данные в одном датафрейме\n",
    "mergedCumulativeRevenue = cumulativeRevenueA.merge(cumulativeRevenueB, \n",
    "                                                   left_on='date', \n",
    "                                                   right_on='date', \n",
    "                                                   how='left', \n",
    "                                                   suffixes=['A', 'B'])\n",
    "#строим график относительного изменения кумулятивного среднего чека\n",
    "plt.figure(figsize=(10, 6))\n",
    "plt.plot(mergedCumulativeRevenue['date'], \n",
    "         (mergedCumulativeRevenue['revenueB']/mergedCumulativeRevenue['ordersB'])/(mergedCumulativeRevenue['revenueA']/mergedCumulativeRevenue['ordersA'])-1)\n",
    "\n",
    "plt.axhline(y=0, color='black', linestyle='--')\n",
    "plt.title('График относительного изменения среднего чека группы В по отношению к группе А', fontsize=15)\n",
    "plt.ylabel('Средний чек', fontsize=15)\n",
    "plt.xlabel('Дни', fontsize=15)\n",
    "plt.show()"
   ]
  },
  {
   "cell_type": "markdown",
   "metadata": {
    "id": "qd6T1MM2g8Ra"
   },
   "source": [
    "**Вывод относительного изменения кумулятивного среднего чека:**\n",
    "\n",
    "По данному графику видно, что присутвуют аномально резкие скачки. Явно присутсвуют выбросы с которыми нужно работать."
   ]
  },
  {
   "cell_type": "markdown",
   "metadata": {
    "id": "eOzcAvFxg8Ra"
   },
   "source": [
    "# 2.4 График кумулятивной конверсии."
   ]
  },
  {
   "cell_type": "code",
   "execution_count": 14,
   "metadata": {
    "id": "Uldf0zQXg8Ra",
    "outputId": "c8f7a4d9-5c5a-4345-aea5-ba0128a0d80e"
   },
   "outputs": [
    {
     "data": {
      "image/png": "[encoded data removed]",
      "text/plain": [
       "<Figure size 720x432 with 1 Axes>"
      ]
     },
     "metadata": {
      "needs_background": "light"
     },
     "output_type": "display_data"
    }
   ],
   "source": [
    "# считаем кумулятивную конверсию\n",
    "cumulativeData['conversion'] = cumulativeData['orders']/cumulativeData['visitors']\n",
    "\n",
    "# отделяем данные по группе A\n",
    "cumulativeDataA = cumulativeData[cumulativeData['group']=='A']\n",
    "\n",
    "# отделяем данные по группе B\n",
    "cumulativeDataB = cumulativeData[cumulativeData['group']=='B']\n",
    "\n",
    "#строим график кумулятивной конверсии\n",
    "plt.figure(figsize=(10, 6))\n",
    "plt.plot(cumulativeDataA['date'], cumulativeDataA['conversion'], label='A')\n",
    "plt.plot(cumulativeDataB['date'], cumulativeDataB['conversion'], label='B')\n",
    "plt.title('График кумулятивной конверсии по группам', fontsize=15)\n",
    "plt.ylabel('Конверсия', fontsize=15)\n",
    "plt.xlabel('Дни', fontsize=15)\n",
    "plt.annotate('отрыв', xy=('2019-08-06', 0.035), xytext=('2019-08-06', 0.045),\n",
    "            arrowprops=dict(facecolor='g'))\n",
    "plt.legend()\n",
    "\n",
    "plt.axis(['2019-08-01', '2019-09-01', 0, 0.05])\n",
    "plt.show()"
   ]
  },
  {
   "cell_type": "markdown",
   "metadata": {
    "id": "JDkkev4Vg8Rb"
   },
   "source": [
    "**Вывод по графику кумулятивной конверсии:**\n",
    "\n",
    "В самом начале данные идут примерно одинаково, но затем значения группы B фиксируются и становятся больше, чем значения группы А."
   ]
  },
  {
   "cell_type": "markdown",
   "metadata": {
    "id": "zejxOQIZg8Rb"
   },
   "source": [
    "# 2.5 График относительного изменения кумулятивной конверсии."
   ]
  },
  {
   "cell_type": "code",
   "execution_count": 15,
   "metadata": {
    "id": "e5tLKd2ng8Rb",
    "outputId": "ceed14d7-9971-4907-b35e-57a60e2a32d3"
   },
   "outputs": [
    {
     "data": {
      "image/png": "[encoded data removed]",
      "text/plain": [
       "<Figure size 720x432 with 1 Axes>"
      ]
     },
     "metadata": {
      "needs_background": "light"
     },
     "output_type": "display_data"
    }
   ],
   "source": [
    "#объединяем в отдельном датафрейме\n",
    "mergedCumulativeConversions = cumulativeDataA[['date','conversion']].merge(cumulativeDataB[['date','conversion']], \n",
    "                                                                           left_on='date', \n",
    "                                                                           right_on='date', \n",
    "                                                                           how='left', \n",
    "                                                                           suffixes=['A', 'B'])\n",
    "#строим график относительного изменения кумулятивной конверсии\n",
    "plt.figure(figsize=(10, 6))\n",
    "plt.plot(mergedCumulativeConversions['date'], \n",
    "         mergedCumulativeConversions['conversionB']/mergedCumulativeConversions['conversionA']-1)\n",
    "\n",
    "plt.title('График относительного изменения кумулятивной конверсии', fontsize=15)\n",
    "plt.ylabel('Конверсия', fontsize=15)\n",
    "plt.xlabel('Дни', fontsize=15)\n",
    "\n",
    "plt.axhline(y=0, color='black', linestyle='--')\n",
    "plt.axhline(y=0.1, color='grey', linestyle='--')\n",
    "plt.axis(['2019-08-01', '2019-09-01', -0.4, 0.4])\n",
    "plt.show()"
   ]
  },
  {
   "cell_type": "markdown",
   "metadata": {
    "id": "rfF3ulLJg8Rb"
   },
   "source": [
    "**Вывод по графику относительного изменения кумулятивной конверсии:**\n",
    "\n",
    "Практически на протяжении всего теста группа В лидирует по конверсии. Прирост по отношению к группе А небольшой примерно в 10%."
   ]
  },
  {
   "cell_type": "markdown",
   "metadata": {
    "id": "0VAVhuxwg8Rc"
   },
   "source": [
    "# 2.6 Точечный график количества заказов."
   ]
  },
  {
   "cell_type": "code",
   "execution_count": 16,
   "metadata": {
    "id": "4Ob00DiBg8Rc",
    "outputId": "fe0f2b6e-d568-4ce5-ee60-95c10019826d"
   },
   "outputs": [
    {
     "data": {
      "text/html": [
       "<div>\n",
       "<style scoped>\n",
       "    .dataframe tbody tr th:only-of-type {\n",
       "        vertical-align: middle;\n",
       "    }\n",
       "\n",
       "    .dataframe tbody tr th {\n",
       "        vertical-align: top;\n",
       "    }\n",
       "\n",
       "    .dataframe thead th {\n",
       "        text-align: right;\n",
       "    }\n",
       "</style>\n",
       "<table border=\"1\" class=\"dataframe\">\n",
       "  <thead>\n",
       "    <tr style=\"text-align: right;\">\n",
       "      <th></th>\n",
       "      <th>visitorId</th>\n",
       "      <th>orders</th>\n",
       "    </tr>\n",
       "  </thead>\n",
       "  <tbody>\n",
       "    <tr>\n",
       "      <th>1023</th>\n",
       "      <td>4256040402</td>\n",
       "      <td>11</td>\n",
       "    </tr>\n",
       "    <tr>\n",
       "      <th>591</th>\n",
       "      <td>2458001652</td>\n",
       "      <td>11</td>\n",
       "    </tr>\n",
       "    <tr>\n",
       "      <th>569</th>\n",
       "      <td>2378935119</td>\n",
       "      <td>9</td>\n",
       "    </tr>\n",
       "    <tr>\n",
       "      <th>487</th>\n",
       "      <td>2038680547</td>\n",
       "      <td>8</td>\n",
       "    </tr>\n",
       "    <tr>\n",
       "      <th>44</th>\n",
       "      <td>199603092</td>\n",
       "      <td>5</td>\n",
       "    </tr>\n",
       "    <tr>\n",
       "      <th>744</th>\n",
       "      <td>3062433592</td>\n",
       "      <td>5</td>\n",
       "    </tr>\n",
       "    <tr>\n",
       "      <th>55</th>\n",
       "      <td>237748145</td>\n",
       "      <td>5</td>\n",
       "    </tr>\n",
       "    <tr>\n",
       "      <th>917</th>\n",
       "      <td>3803269165</td>\n",
       "      <td>5</td>\n",
       "    </tr>\n",
       "    <tr>\n",
       "      <th>299</th>\n",
       "      <td>1230306981</td>\n",
       "      <td>5</td>\n",
       "    </tr>\n",
       "    <tr>\n",
       "      <th>897</th>\n",
       "      <td>3717692402</td>\n",
       "      <td>5</td>\n",
       "    </tr>\n",
       "  </tbody>\n",
       "</table>\n",
       "</div>"
      ],
      "text/plain": [
       "       visitorId  orders\n",
       "1023  4256040402      11\n",
       "591   2458001652      11\n",
       "569   2378935119       9\n",
       "487   2038680547       8\n",
       "44     199603092       5\n",
       "744   3062433592       5\n",
       "55     237748145       5\n",
       "917   3803269165       5\n",
       "299   1230306981       5\n",
       "897   3717692402       5"
      ]
     },
     "metadata": {},
     "output_type": "display_data"
    },
    {
     "data": {
      "image/png": "[encoded data removed]",
      "text/plain": [
       "<Figure size 432x288 with 1 Axes>"
      ]
     },
     "metadata": {
      "needs_background": "light"
     },
     "output_type": "display_data"
    }
   ],
   "source": [
    "#группируем пользователей по\n",
    "ordersByUsers = (\n",
    "    orders.drop(['group', 'revenue', 'date'], axis=1)\n",
    "    .groupby('visitorId', as_index=False)\n",
    "    .agg({'transactionId': pd.Series.nunique})\n",
    ")\n",
    "ordersByUsers.columns = ['visitorId', 'orders']\n",
    "display(ordersByUsers.sort_values(by='orders', ascending=False).head(10))\n",
    "\n",
    "plt.hist(ordersByUsers['orders'])\n",
    "plt.title('График кол-ва заказов', fontsize=15)\n",
    "plt.ylabel('Пользователи', fontsize=15)\n",
    "plt.xlabel('Кол-во заказов', fontsize=15)\n",
    "plt.show()"
   ]
  },
  {
   "cell_type": "markdown",
   "metadata": {
    "id": "48958owbg8Rc"
   },
   "source": [
    "Большинство пользователей сделали сделали по 1 заказу. Посмотрим на данные точечным графиком."
   ]
  },
  {
   "cell_type": "code",
   "execution_count": 17,
   "metadata": {
    "id": "yUOeFQOdg8Rc",
    "outputId": "91b2da88-2392-4cbf-b82c-ddf0d14d59fb"
   },
   "outputs": [
    {
     "data": {
      "image/png": "[encoded data removed]",
      "text/plain": [
       "<Figure size 432x288 with 1 Axes>"
      ]
     },
     "metadata": {
      "needs_background": "light"
     },
     "output_type": "display_data"
    }
   ],
   "source": [
    "#строим точечный график\n",
    "x_values = pd.Series(range(0, len(ordersByUsers)))\n",
    "plt.scatter(x_values, ordersByUsers['orders'])\n",
    "plt.title('Точечный график кол-ва заказов', fontsize=15)\n",
    "plt.ylabel('Кол-во заказов', fontsize=15)\n",
    "plt.xlabel('Пользователи', fontsize=15)\n",
    "plt.show()"
   ]
  },
  {
   "cell_type": "markdown",
   "metadata": {
    "id": "AOmQqkf1g8Rc"
   },
   "source": [
    "**Вывод по точечному графику количества заказов:**\n",
    "\n",
    "Подавляющее большинство сделали по 1 заказу, заказов более 2 совсем мало, считаем их аномальными.\n",
    "Чтобы определить нормальное ли количество в 2 заказа, посчитаем выборочные перцентили."
   ]
  },
  {
   "cell_type": "markdown",
   "metadata": {
    "id": "tWSrZCc2g8Rd"
   },
   "source": [
    "# 2.7 Выборочные перцентили для количества заказов."
   ]
  },
  {
   "cell_type": "code",
   "execution_count": 18,
   "metadata": {
    "id": "gFry9dGng8Rd",
    "outputId": "0d30b4f7-4300-4261-d75b-385e1ff2c9ce"
   },
   "outputs": [
    {
     "data": {
      "text/html": [
       "<div>\n",
       "<style scoped>\n",
       "    .dataframe tbody tr th:only-of-type {\n",
       "        vertical-align: middle;\n",
       "    }\n",
       "\n",
       "    .dataframe tbody tr th {\n",
       "        vertical-align: top;\n",
       "    }\n",
       "\n",
       "    .dataframe thead th {\n",
       "        text-align: right;\n",
       "    }\n",
       "</style>\n",
       "<table border=\"1\" class=\"dataframe\">\n",
       "  <thead>\n",
       "    <tr style=\"text-align: right;\">\n",
       "      <th></th>\n",
       "      <th>visitorId</th>\n",
       "      <th>orders</th>\n",
       "    </tr>\n",
       "  </thead>\n",
       "  <tbody>\n",
       "    <tr>\n",
       "      <th>1023</th>\n",
       "      <td>4256040402</td>\n",
       "      <td>11</td>\n",
       "    </tr>\n",
       "    <tr>\n",
       "      <th>591</th>\n",
       "      <td>2458001652</td>\n",
       "      <td>11</td>\n",
       "    </tr>\n",
       "    <tr>\n",
       "      <th>569</th>\n",
       "      <td>2378935119</td>\n",
       "      <td>9</td>\n",
       "    </tr>\n",
       "    <tr>\n",
       "      <th>487</th>\n",
       "      <td>2038680547</td>\n",
       "      <td>8</td>\n",
       "    </tr>\n",
       "    <tr>\n",
       "      <th>44</th>\n",
       "      <td>199603092</td>\n",
       "      <td>5</td>\n",
       "    </tr>\n",
       "    <tr>\n",
       "      <th>744</th>\n",
       "      <td>3062433592</td>\n",
       "      <td>5</td>\n",
       "    </tr>\n",
       "    <tr>\n",
       "      <th>55</th>\n",
       "      <td>237748145</td>\n",
       "      <td>5</td>\n",
       "    </tr>\n",
       "    <tr>\n",
       "      <th>917</th>\n",
       "      <td>3803269165</td>\n",
       "      <td>5</td>\n",
       "    </tr>\n",
       "    <tr>\n",
       "      <th>299</th>\n",
       "      <td>1230306981</td>\n",
       "      <td>5</td>\n",
       "    </tr>\n",
       "    <tr>\n",
       "      <th>897</th>\n",
       "      <td>3717692402</td>\n",
       "      <td>5</td>\n",
       "    </tr>\n",
       "  </tbody>\n",
       "</table>\n",
       "</div>"
      ],
      "text/plain": [
       "       visitorId  orders\n",
       "1023  4256040402      11\n",
       "591   2458001652      11\n",
       "569   2378935119       9\n",
       "487   2038680547       8\n",
       "44     199603092       5\n",
       "744   3062433592       5\n",
       "55     237748145       5\n",
       "917   3803269165       5\n",
       "299   1230306981       5\n",
       "897   3717692402       5"
      ]
     },
     "metadata": {},
     "output_type": "display_data"
    },
    {
     "name": "stdout",
     "output_type": "stream",
     "text": [
      "[1. 2. 4.]\n"
     ]
    }
   ],
   "source": [
    "display(ordersByUsers.sort_values(by='orders', ascending=False).head(10))\n",
    "print(np.percentile(ordersByUsers['orders'], [90, 95, 99]))"
   ]
  },
  {
   "cell_type": "markdown",
   "metadata": {
    "id": "IQrGKbTng8Rd"
   },
   "source": [
    "**Вывод по перцентелям количества заказов:**\n",
    "\n",
    "Не более 5% пользователей делали более 2 заказов и не более 1% делали 4 заказа. Нижней границей оставляем 2 заказа, все что больше отсекаем."
   ]
  },
  {
   "cell_type": "markdown",
   "metadata": {
    "id": "MrEi3v4Pg8Rd"
   },
   "source": [
    "# 2.8 Точечный график стоимости заказов."
   ]
  },
  {
   "cell_type": "code",
   "execution_count": 19,
   "metadata": {
    "id": "E7wbj6_Rg8Rd",
    "outputId": "a9387ad8-a43e-4e26-d6fa-cf2265b61024"
   },
   "outputs": [
    {
     "name": "stdout",
     "output_type": "stream",
     "text": [
      "      transactionId   visitorId       date  revenue group\n",
      "425       590470918  1920142716 2019-08-19  1294500     B\n",
      "1196     3936777065  2108080724 2019-08-15   202740     B\n",
      "858       192721366  1316129916 2019-08-27    93940     A\n",
      "1136      666610489  1307669133 2019-08-13    92550     A\n",
      "744      3668308183   888512513 2019-08-27    86620     B\n",
      "682      1216533772  4266935830 2019-08-29    78990     B\n",
      "662      1811671147  4266935830 2019-08-29    78990     A\n",
      "743      3603576309  4133034833 2019-08-09    67990     A\n",
      "1103     1348774318  1164614297 2019-08-12    66350     A\n",
      "1099      316924019   148427295 2019-08-12    65710     A\n"
     ]
    },
    {
     "data": {
      "image/png": "[encoded data removed]",
      "text/plain": [
       "<Figure size 432x288 with 1 Axes>"
      ]
     },
     "metadata": {
      "needs_background": "light"
     },
     "output_type": "display_data"
    }
   ],
   "source": [
    "print(orders.sort_values(by='revenue', ascending=False).head(10))\n",
    "\n",
    "plt.hist(orders['revenue'])\n",
    "plt.title('График стоимости заказов', fontsize=15)\n",
    "plt.ylabel('Кол-во заказов', fontsize=15)\n",
    "plt.xlabel('Стоимость заказа в рублях', fontsize=15)\n",
    "plt.show()"
   ]
  },
  {
   "cell_type": "markdown",
   "metadata": {
    "id": "77-MmJodg8Re"
   },
   "source": [
    "Сумма большинства заказов не превышает 150000 рублей. Но по данному графику сложно увидеть аномальные выбросы. Посмотрим с помощью точечного графика."
   ]
  },
  {
   "cell_type": "code",
   "execution_count": 20,
   "metadata": {
    "id": "V1fvwv4Xg8Re",
    "outputId": "60ead321-d939-46ad-fbff-959365593c00"
   },
   "outputs": [
    {
     "data": {
      "image/png": "[encoded data removed]",
      "text/plain": [
       "<Figure size 432x288 with 1 Axes>"
      ]
     },
     "metadata": {
      "needs_background": "light"
     },
     "output_type": "display_data"
    }
   ],
   "source": [
    "#строим точечный график\n",
    "x_values = pd.Series(range(0, len(orders['revenue'])))\n",
    "plt.scatter(x_values, orders['revenue'])\n",
    "plt.title('Точечный график стоимости заказов', fontsize=15)\n",
    "plt.ylabel('Стоимость заказа в рублях', fontsize=15)\n",
    "plt.xlabel('Кол-во заказов', fontsize=15)\n",
    "plt.show()"
   ]
  },
  {
   "cell_type": "markdown",
   "metadata": {
    "id": "GHkFLnm3g8Re"
   },
   "source": [
    "**Вывод по точечному графику стоимости заказов:**\n",
    "\n",
    "На графике явно заметен аномальный заказ свыше 1 миллиона рублей, этот выброс явно нам не нужен. Также выделяется заказ на 200000 рублей, определим с помощью выборочных перцентилей оставлять ли его."
   ]
  },
  {
   "cell_type": "markdown",
   "metadata": {
    "id": "LwiXGRfjg8Re"
   },
   "source": [
    "# 2.9 Выборочные перцентили для стоимости заказов."
   ]
  },
  {
   "cell_type": "code",
   "execution_count": 21,
   "metadata": {
    "id": "5N_-Bi88g8Re",
    "outputId": "c87a4dfa-d296-45e0-fcf4-971ab498516a"
   },
   "outputs": [
    {
     "name": "stdout",
     "output_type": "stream",
     "text": [
      "   transactionId   visitorId       date  revenue group\n",
      "0     3667963787  3312258926 2019-08-15     1650     B\n",
      "1     2804400009  3642806036 2019-08-15      730     B\n",
      "2     2961555356  4069496402 2019-08-15      400     A\n",
      "3     3797467345  1196621759 2019-08-15     9759     B\n",
      "4     2282983706  2322279887 2019-08-15     2308     B\n",
      "5      182168103   935554773 2019-08-15     2210     B\n",
      "6      398296753  2900797465 2019-08-15     1860     B\n",
      "7     2626614568    78758296 2019-08-15     1044     A\n",
      "8     1576988021   295230930 2019-08-15    13710     A\n",
      "9     1506739906  1882260405 2019-08-15     1855     B\n",
      "[18168.  28000.  58233.2]\n"
     ]
    }
   ],
   "source": [
    "print(orders.head(10))\n",
    "print(np.percentile(orders['revenue'], [90, 95, 99]))"
   ]
  },
  {
   "cell_type": "markdown",
   "metadata": {
    "id": "y2_KtheDg8Rf"
   },
   "source": [
    "**Вывод по перцентелям стоимости заказов:**\n",
    "\n",
    "Не более чем у 5% заказ больше 28000 рублей, и не больше чему у 1% заказ дороже 58233 рублей.\n",
    "Можем смело отсеить заказы стоимостью свыше 50000 рублей."
   ]
  },
  {
   "cell_type": "markdown",
   "metadata": {
    "id": "QbKkkViug8Rf"
   },
   "source": [
    "# 2.10 Статистическая значимость различий в конверсии между группами по «сырым» данным."
   ]
  },
  {
   "cell_type": "code",
   "execution_count": 22,
   "metadata": {
    "id": "-N78-XiTg8Rf",
    "outputId": "b4f44967-f4e9-4003-f7c6-d820915100cf",
    "scrolled": true
   },
   "outputs": [
    {
     "data": {
      "text/html": [
       "<div>\n",
       "<style scoped>\n",
       "    .dataframe tbody tr th:only-of-type {\n",
       "        vertical-align: middle;\n",
       "    }\n",
       "\n",
       "    .dataframe tbody tr th {\n",
       "        vertical-align: top;\n",
       "    }\n",
       "\n",
       "    .dataframe thead th {\n",
       "        text-align: right;\n",
       "    }\n",
       "</style>\n",
       "<table border=\"1\" class=\"dataframe\">\n",
       "  <thead>\n",
       "    <tr style=\"text-align: right;\">\n",
       "      <th></th>\n",
       "      <th>date</th>\n",
       "      <th>ordersPerDateA</th>\n",
       "      <th>revenuePerDateA</th>\n",
       "      <th>ordersPerDateB</th>\n",
       "      <th>revenuePerDateB</th>\n",
       "      <th>ordersCummulativeA</th>\n",
       "      <th>revenueCummulativeA</th>\n",
       "      <th>ordersCummulativeB</th>\n",
       "      <th>revenueCummulativeB</th>\n",
       "      <th>visitorsPerDateA</th>\n",
       "      <th>visitorsPerDateB</th>\n",
       "      <th>visitorsCummulativeA</th>\n",
       "      <th>visitorsCummulativeB</th>\n",
       "    </tr>\n",
       "  </thead>\n",
       "  <tbody>\n",
       "    <tr>\n",
       "      <th>0</th>\n",
       "      <td>2019-08-01</td>\n",
       "      <td>24</td>\n",
       "      <td>148579</td>\n",
       "      <td>21</td>\n",
       "      <td>101217</td>\n",
       "      <td>24</td>\n",
       "      <td>148579</td>\n",
       "      <td>21</td>\n",
       "      <td>101217</td>\n",
       "      <td>719</td>\n",
       "      <td>713</td>\n",
       "      <td>719</td>\n",
       "      <td>713</td>\n",
       "    </tr>\n",
       "    <tr>\n",
       "      <th>1</th>\n",
       "      <td>2019-08-02</td>\n",
       "      <td>20</td>\n",
       "      <td>93822</td>\n",
       "      <td>24</td>\n",
       "      <td>165531</td>\n",
       "      <td>44</td>\n",
       "      <td>242401</td>\n",
       "      <td>45</td>\n",
       "      <td>266748</td>\n",
       "      <td>619</td>\n",
       "      <td>581</td>\n",
       "      <td>1338</td>\n",
       "      <td>1294</td>\n",
       "    </tr>\n",
       "    <tr>\n",
       "      <th>2</th>\n",
       "      <td>2019-08-03</td>\n",
       "      <td>24</td>\n",
       "      <td>112473</td>\n",
       "      <td>16</td>\n",
       "      <td>114248</td>\n",
       "      <td>68</td>\n",
       "      <td>354874</td>\n",
       "      <td>61</td>\n",
       "      <td>380996</td>\n",
       "      <td>507</td>\n",
       "      <td>509</td>\n",
       "      <td>1845</td>\n",
       "      <td>1803</td>\n",
       "    </tr>\n",
       "    <tr>\n",
       "      <th>3</th>\n",
       "      <td>2019-08-04</td>\n",
       "      <td>16</td>\n",
       "      <td>70825</td>\n",
       "      <td>17</td>\n",
       "      <td>108571</td>\n",
       "      <td>84</td>\n",
       "      <td>425699</td>\n",
       "      <td>78</td>\n",
       "      <td>489567</td>\n",
       "      <td>717</td>\n",
       "      <td>770</td>\n",
       "      <td>2562</td>\n",
       "      <td>2573</td>\n",
       "    </tr>\n",
       "    <tr>\n",
       "      <th>4</th>\n",
       "      <td>2019-08-05</td>\n",
       "      <td>25</td>\n",
       "      <td>124218</td>\n",
       "      <td>23</td>\n",
       "      <td>92428</td>\n",
       "      <td>109</td>\n",
       "      <td>549917</td>\n",
       "      <td>101</td>\n",
       "      <td>581995</td>\n",
       "      <td>756</td>\n",
       "      <td>707</td>\n",
       "      <td>3318</td>\n",
       "      <td>3280</td>\n",
       "    </tr>\n",
       "  </tbody>\n",
       "</table>\n",
       "</div>"
      ],
      "text/plain": [
       "        date  ordersPerDateA  revenuePerDateA  ordersPerDateB  \\\n",
       "0 2019-08-01              24           148579              21   \n",
       "1 2019-08-02              20            93822              24   \n",
       "2 2019-08-03              24           112473              16   \n",
       "3 2019-08-04              16            70825              17   \n",
       "4 2019-08-05              25           124218              23   \n",
       "\n",
       "   revenuePerDateB  ordersCummulativeA  revenueCummulativeA  \\\n",
       "0           101217                  24               148579   \n",
       "1           165531                  44               242401   \n",
       "2           114248                  68               354874   \n",
       "3           108571                  84               425699   \n",
       "4            92428                 109               549917   \n",
       "\n",
       "   ordersCummulativeB  revenueCummulativeB  visitorsPerDateA  \\\n",
       "0                  21               101217               719   \n",
       "1                  45               266748               619   \n",
       "2                  61               380996               507   \n",
       "3                  78               489567               717   \n",
       "4                 101               581995               756   \n",
       "\n",
       "   visitorsPerDateB  visitorsCummulativeA  visitorsCummulativeB  \n",
       "0               713                   719                   713  \n",
       "1               581                  1338                  1294  \n",
       "2               509                  1845                  1803  \n",
       "3               770                  2562                  2573  \n",
       "4               707                  3318                  3280  "
      ]
     },
     "metadata": {},
     "output_type": "display_data"
    }
   ],
   "source": [
    "#находим пользователей по датам для группы А\n",
    "visitorsADaily = visitors[visitors['group'] == 'A'][['date', 'visitors']]\n",
    "visitorsADaily.columns = ['date', 'visitorsPerDateA']\n",
    "\n",
    "visitorsACummulative = visitorsADaily.apply(\n",
    "    lambda x: visitorsADaily[visitorsADaily['date'] <= x['date']].agg(\n",
    "        {'date': 'max', 'visitorsPerDateA': 'sum'}\n",
    "    ),\n",
    "    axis=1,\n",
    ")\n",
    "visitorsACummulative.columns = ['date', 'visitorsCummulativeA']\n",
    "#находим пользователей по датам для группы В\n",
    "visitorsBDaily = visitors[visitors['group'] == 'B'][['date', 'visitors']]\n",
    "visitorsBDaily.columns = ['date', 'visitorsPerDateB']\n",
    "\n",
    "visitorsBCummulative = visitorsBDaily.apply(\n",
    "    lambda x: visitorsBDaily[visitorsBDaily['date'] <= x['date']].agg(\n",
    "        {'date': 'max', 'visitorsPerDateB': 'sum'}\n",
    "    ),\n",
    "    axis=1,\n",
    ")\n",
    "visitorsBCummulative.columns = ['date', 'visitorsCummulativeB']\n",
    "#находим кол-во заказов и вырручки по дате для группы А\n",
    "ordersADaily = (\n",
    "    orders[orders['group'] == 'A'][['date', 'transactionId', 'visitorId', 'revenue']]\n",
    "    .groupby('date', as_index=False)\n",
    "    .agg({'transactionId': pd.Series.nunique, 'revenue': 'sum'})\n",
    ")\n",
    "ordersADaily.columns = ['date', 'ordersPerDateA', 'revenuePerDateA']\n",
    "#находим кумулятивные заказы и выручку по дате для группы А\n",
    "ordersACummulative = ordersADaily.apply(\n",
    "    lambda x: ordersADaily[ordersADaily['date'] <= x['date']].agg(\n",
    "        {'date': 'max', 'ordersPerDateA': 'sum', 'revenuePerDateA': 'sum'}\n",
    "    ),\n",
    "    axis=1,\n",
    ").sort_values(by=['date'])\n",
    "ordersACummulative.columns = [\n",
    "    'date',\n",
    "    'ordersCummulativeA',\n",
    "    'revenueCummulativeA',\n",
    "]\n",
    "\n",
    "#находим кол-во заказов и вырручки по дате для группы В\n",
    "ordersBDaily = (\n",
    "    orders[orders['group'] == 'B'][['date', 'transactionId', 'visitorId', 'revenue']]\n",
    "    .groupby('date', as_index=False)\n",
    "    .agg({'transactionId': pd.Series.nunique, 'revenue': 'sum'})\n",
    ")\n",
    "ordersBDaily.columns = ['date', 'ordersPerDateB', 'revenuePerDateB']\n",
    "#находим кумулятивные заказы и выручку по дате для группы В\n",
    "ordersBCummulative = ordersBDaily.apply(\n",
    "    lambda x: ordersBDaily[ordersBDaily['date'] <= x['date']].agg(\n",
    "        {'date': 'max', 'ordersPerDateB': 'sum', 'revenuePerDateB': 'sum'}\n",
    "    ),\n",
    "    axis=1,\n",
    ").sort_values(by=['date'])\n",
    "ordersBCummulative.columns = [\n",
    "    'date',\n",
    "    'ordersCummulativeB',\n",
    "    'revenueCummulativeB',\n",
    "]\n",
    "#создаём общий датафрейм\n",
    "data = (\n",
    "    ordersADaily.merge(\n",
    "        ordersBDaily, left_on='date', right_on='date', how='left'\n",
    "    )\n",
    "    .merge(ordersACummulative, left_on='date', right_on='date', how='left')\n",
    "    .merge(ordersBCummulative, left_on='date', right_on='date', how='left')\n",
    "    .merge(visitorsADaily, left_on='date', right_on='date', how='left')\n",
    "    .merge(visitorsBDaily, left_on='date', right_on='date', how='left')\n",
    "    .merge(visitorsACummulative, left_on='date', right_on='date', how='left')\n",
    "    .merge(visitorsBCummulative, left_on='date', right_on='date', how='left')\n",
    ")\n",
    "\n",
    "display(data.head(5)) "
   ]
  },
  {
   "cell_type": "markdown",
   "metadata": {
    "id": "Q6WV0Ooug8Rf"
   },
   "source": [
    "**Формируем гипотезу:**\n",
    "\n",
    "1. Нулевая гипотеза: Доли между групп А и В равные;\n",
    "2. Обратная гипотеза: Между долями групп А и В присутсвует разница."
   ]
  },
  {
   "cell_type": "code",
   "execution_count": 23,
   "metadata": {
    "id": "mM-ABDtXg8Rg",
    "outputId": "25bdcde4-f873-42c8-fd8e-e8cc7b9e3d82"
   },
   "outputs": [
    {
     "name": "stdout",
     "output_type": "stream",
     "text": [
      "0.017\n",
      "0.138\n"
     ]
    }
   ],
   "source": [
    "# находим совершённые заказы для пользователей покупавших хоть раз.\n",
    "ordersByUsersA = (\n",
    "    orders[orders['group'] == 'A']\n",
    "    .groupby('visitorId', as_index=False)\n",
    "    .agg({'transactionId': pd.Series.nunique})\n",
    ")\n",
    "ordersByUsersA.columns = ['visitorId', 'orders']\n",
    "\n",
    "ordersByUsersB = (\n",
    "    orders[orders['group'] == 'B']\n",
    "    .groupby('visitorId', as_index=False)\n",
    "    .agg({'transactionId': pd.Series.nunique})\n",
    ")\n",
    "ordersByUsersB.columns = ['visitorId', 'orders']\n",
    "\n",
    "#находим количество заказов для каждого из пользователей\n",
    "sampleA = pd.concat([ordersByUsersA['orders'],pd.Series(0, index=np.arange(data['visitorsPerDateA'].sum() - len(ordersByUsersA['orders'])), name='orders')],axis=0)\n",
    "\n",
    "sampleB = pd.concat([ordersByUsersB['orders'],pd.Series(0, index=np.arange(data['visitorsPerDateB'].sum() - len(ordersByUsersB['orders'])), name='orders')],axis=0)\n",
    "#рассчитываем статистическую значимость с помощью метода mannwhitneyu\n",
    "print(\"{0:.3f}\".format(stats.mannwhitneyu(sampleA, sampleB, alternative = 'two-sided')[1]))\n",
    "\n",
    "print(\"{0:.3f}\".format((data['ordersPerDateB'].sum()/data['visitorsPerDateB'].sum())/(data['ordersPerDateA'].sum()/data['visitorsPerDateA'].sum())-1))"
   ]
  },
  {
   "cell_type": "markdown",
   "metadata": {
    "id": "QktOkKutg8Rg"
   },
   "source": [
    "**Вывод:**\n",
    "\n",
    "P-value меньше 0.05 поэтому отвергаем нулевую гипотезу. По анализу сырых данных есть статистичеки значимые различия в конверсии. Прирост конверсии группы В относительно группы А - 13.8%"
   ]
  },
  {
   "cell_type": "markdown",
   "metadata": {
    "id": "I-kaAZQBg8Rg"
   },
   "source": [
    "# 2.11 Статистическая значимость различий среднего чека между группами по «сырым» данным."
   ]
  },
  {
   "cell_type": "code",
   "execution_count": 24,
   "metadata": {
    "id": "EqLEjT9Tg8Rh",
    "outputId": "9e96f99e-2a82-4e6c-9f07-97ccb15928a0"
   },
   "outputs": [
    {
     "name": "stdout",
     "output_type": "stream",
     "text": [
      "0.729\n",
      "0.259\n"
     ]
    }
   ],
   "source": [
    "print('{0:.3f}'.format(stats.mannwhitneyu(orders[orders['group']=='A']['revenue'], orders[orders['group']=='B']['revenue'], alternative = 'two-sided')[1]))\n",
    "print('{0:.3f}'.format(orders[orders['group']=='B']['revenue'].mean()/orders[orders['group']=='A']['revenue'].mean()-1))"
   ]
  },
  {
   "cell_type": "markdown",
   "metadata": {
    "id": "DNWoRNxTg8Rh"
   },
   "source": [
    "**Вывод:**\n",
    "\n",
    "P-value значительно больше 0.05 причин отвергать нулевую гипотезу и считать, что в среднем чеке есть различия, нет. Впрочем, средний чек группы B значительно больше среднего чека группы A на 25.9%\n",
    "Необходимо посмотреть на очищенные от аномалий данные."
   ]
  },
  {
   "cell_type": "markdown",
   "metadata": {
    "id": "pg72T0UBg8Rh"
   },
   "source": [
    "# 2.12 Статистическая значимость различий в конверсии между группами по «очищенным» данным."
   ]
  },
  {
   "cell_type": "code",
   "execution_count": 25,
   "metadata": {
    "id": "M9EpyiBEg8Rh",
    "outputId": "f69af3cf-ffee-4352-c7d1-6a29167d848e"
   },
   "outputs": [
    {
     "data": {
      "text/plain": [
       "1099    148427295\n",
       "18      199603092\n",
       "23      237748145\n",
       "37      249864742\n",
       "68      457167155\n",
       "Name: visitorId, dtype: int64"
      ]
     },
     "metadata": {},
     "output_type": "display_data"
    },
    {
     "data": {
      "text/plain": [
       "(37,)"
      ]
     },
     "metadata": {},
     "output_type": "display_data"
    }
   ],
   "source": [
    "#находим множество аномальных пользователей\n",
    "usersWithManyOrders = pd.concat(\n",
    "    [\n",
    "        ordersByUsersA[ordersByUsersA['orders'] > 2]['visitorId'],\n",
    "        ordersByUsersB[ordersByUsersB['orders'] > 2]['visitorId'],\n",
    "    ],\n",
    "    axis=0,\n",
    ")\n",
    "usersWithExpensiveOrders = orders[orders['revenue'] > 50000]['visitorId']\n",
    "abnormalUsers = (\n",
    "    pd.concat([usersWithManyOrders, usersWithExpensiveOrders], axis=0)\n",
    "    .drop_duplicates()\n",
    "    .sort_values()\n",
    ")\n",
    "display(abnormalUsers.head(5))\n",
    "display(abnormalUsers.shape)"
   ]
  },
  {
   "cell_type": "markdown",
   "metadata": {
    "id": "F31vwhApg8Rh"
   },
   "source": [
    "Всего таких пользователей 37"
   ]
  },
  {
   "cell_type": "code",
   "execution_count": 26,
   "metadata": {
    "id": "jJum7MWNg8Rh",
    "outputId": "fc9884e5-d12e-4b5a-ad33-830154d6e35b"
   },
   "outputs": [
    {
     "name": "stdout",
     "output_type": "stream",
     "text": [
      "0.008\n",
      "0.182\n"
     ]
    }
   ],
   "source": [
    "#находим статистическую значимость различий в конверсии между группами теста по очищенным данным\n",
    "#создаём выборки количества заказов по пользователям групп теста\n",
    "sampleAFiltered = pd.concat(\n",
    "    [\n",
    "        ordersByUsersA[\n",
    "            np.logical_not(ordersByUsersA['visitorId'].isin(abnormalUsers))\n",
    "        ]['orders'],\n",
    "        pd.Series(\n",
    "            0,\n",
    "            index=np.arange(\n",
    "                data['visitorsPerDateA'].sum() - len(ordersByUsersA['orders'])\n",
    "            ),\n",
    "            name='orders',\n",
    "        ),\n",
    "    ],\n",
    "    axis=0,\n",
    ")\n",
    "\n",
    "sampleBFiltered = pd.concat(\n",
    "    [\n",
    "        ordersByUsersB[\n",
    "            np.logical_not(ordersByUsersB['visitorId'].isin(abnormalUsers))\n",
    "        ]['orders'],\n",
    "        pd.Series(\n",
    "            0,\n",
    "            index=np.arange(\n",
    "                data['visitorsPerDateB'].sum() - len(ordersByUsersB['orders'])\n",
    "            ),\n",
    "            name='orders',\n",
    "        ),\n",
    "    ],\n",
    "    axis=0,\n",
    ")\n",
    "# применяем статистический критерий Манна-Уитни\n",
    "print('{0:.3f}'.format(stats.mannwhitneyu(sampleAFiltered, sampleBFiltered, alternative = 'two-sided')[1]))\n",
    "print('{0:.3f}'.format(sampleBFiltered.mean()/sampleAFiltered.mean()-1)) "
   ]
  },
  {
   "cell_type": "markdown",
   "metadata": {
    "id": "oo_aSOy5g8Ri"
   },
   "source": [
    "**Вывод:**\n",
    "\n",
    "Как и в случае с сырыми данными, статистическая значимость достигнута. Группа В имеет значительный прирост в конверсии в 18.2%"
   ]
  },
  {
   "cell_type": "markdown",
   "metadata": {
    "id": "xUtHa08_g8Ri"
   },
   "source": [
    "# 2.13 Статистическая значимость различий среднего чека между группами по «очищенным» данным."
   ]
  },
  {
   "cell_type": "code",
   "execution_count": 27,
   "metadata": {
    "id": "UfmPUUPug8Ri",
    "outputId": "89a5230e-0622-49dd-f7f7-054d971fcd9d"
   },
   "outputs": [
    {
     "name": "stdout",
     "output_type": "stream",
     "text": [
      "0.940\n",
      "0.019\n"
     ]
    }
   ],
   "source": [
    "print(\n",
    "    '{0:.3f}'.format(\n",
    "        stats.mannwhitneyu(\n",
    "            orders[\n",
    "                np.logical_and(\n",
    "                    orders['group'] == 'A',\n",
    "                    np.logical_not(orders['visitorId'].isin(abnormalUsers)),\n",
    "                )\n",
    "            ]['revenue'],\n",
    "            orders[\n",
    "                np.logical_and(\n",
    "                    orders['group'] == 'B',\n",
    "                    np.logical_not(orders['visitorId'].isin(abnormalUsers)),\n",
    "                )\n",
    "            ]['revenue'], alternative = 'two-sided'\n",
    "        )[1]\n",
    "    )\n",
    ")\n",
    "\n",
    "print(\n",
    "    \"{0:.3f}\".format(\n",
    "        orders[\n",
    "            np.logical_and(\n",
    "                orders['group'] == 'B',\n",
    "                np.logical_not(orders['visitorId'].isin(abnormalUsers)),\n",
    "            )\n",
    "        ]['revenue'].mean()\n",
    "        / orders[\n",
    "            np.logical_and(\n",
    "                orders['group'] == 'A',\n",
    "                np.logical_not(orders['visitorId'].isin(abnormalUsers)),\n",
    "            )\n",
    "        ]['revenue'].mean()\n",
    "        - 1\n",
    "    )\n",
    ") "
   ]
  },
  {
   "cell_type": "markdown",
   "metadata": {
    "id": "yoHFOQ9tg8Ri"
   },
   "source": [
    "**Вывод:**\n",
    "\n",
    "P-value увеличился, но благодаря отсутсвию аномальных данных, разница между сегментами сократилась с 26% до 2%. Различий по среднему чеку в группах А и В не обнаружено."
   ]
  },
  {
   "cell_type": "markdown",
   "metadata": {
    "id": "zBnKl4xCg8Rj"
   },
   "source": [
    "# Выводы по A/B тестированию."
   ]
  },
  {
   "cell_type": "markdown",
   "metadata": {
    "id": "arkJ1V8hg8Rj"
   },
   "source": [
    "**По конверсии** между группами А и В есть статистичеки значимые различия по сырым и очищенным данным. Конверсия группы В по сырым данным больше на 13.8% и больше на 18.2% по очищенным. Что является существенным ростом.\n",
    "\n",
    "**По среднему чеку** между группами А и В нет статистичеки значимых различий. Хотя по сырым данным есть большой рост группы А почти на 26%, но это благодаря аномальным значениям, при отсекании аномалий, рост группы В по среднему чеку составляет уже 2%. "
   ]
  },
  {
   "cell_type": "markdown",
   "metadata": {
    "id": "wIQVw3fBg8Rk"
   },
   "source": [
    "# Общий вывод."
   ]
  },
  {
   "cell_type": "markdown",
   "metadata": {
    "id": "NNMaczGWg8Rk"
   },
   "source": [
    "**Среди наиболее приритетных гипотез мы можем выделить:**\n",
    "\n",
    "Добавить формы подписки на все основные страницы;\n",
    "Добавить два новых канала привлечения трафика.\n",
    "\n",
    "**Также следует отметить достаточно важные гипотезы:** \n",
    "\n",
    "Добавить блоки рекомендаций товаров на сайт интернет магазина;\n",
    "Показать на главной странице баннеры с актуальными акциями и распродажами;\n",
    "Запустить акцию, дающую скидку на товар в день рождения.\n",
    "\n",
    "**Анализ данных:**\n",
    "\n",
    "По графикам кумулятивной выручки и среднего чека присутсвует отрыв группы В практически с самого начала, а в середине происходит стремительный скачок за счёт аномального заказа.\n",
    "\n",
    "По графику кумулятивной конверсии видно, что с самого начала месяца группа В имеет отрыв от группы А.\n",
    "\n",
    "В качестве аномалий мы определили заказы больше 2 от одного покупателя и стоимость заказов свыше 50000 рублей.\n",
    "\n",
    "**Вывод по А/Б тесту:**\n",
    "\n",
    "Конверсия группы В по сырым данным больше на 13.8% и больше на 18.2% по очищенным. Что является существенным ростом. Метод Манна-Уитни показал статистически значемые различия между группами А и В.\n",
    "\n",
    "Средний чек группы В вырос на 26 % по сырым данным, но убрав аномалии в очищенных данных рост оказался не таким существенным, всего 2%. Метод Манна-Уитни не показал статистически значемых различий между группами А и В.\n",
    "\n",
    "**Исходя из того, что рост конверсии группы В существенно вырос по сравнению с группой А, а рост среднего чека незначительно увеличился, тест можно остановить и признать успешным.**"
   ]
  }
 ],
 "metadata": {
  "ExecuteTimeLog": [
   {
    "duration": 950,
    "start_time": "2021-06-30T18:16:55.075Z"
   },
   {
    "duration": 28,
    "start_time": "2021-06-30T18:17:52.260Z"
   },
   {
    "duration": 8095,
    "start_time": "2021-06-30T18:22:32.132Z"
   },
   {
    "duration": 18,
    "start_time": "2021-06-30T18:23:00.506Z"
   },
   {
    "duration": 38,
    "start_time": "2021-06-30T18:26:35.561Z"
   },
   {
    "duration": 29,
    "start_time": "2021-06-30T18:43:50.110Z"
   },
   {
    "duration": -12254,
    "start_time": "2021-06-30T18:46:12.178Z"
   },
   {
    "duration": 1426,
    "start_time": "2021-06-30T18:46:02.474Z"
   },
   {
    "duration": 58,
    "start_time": "2021-06-30T18:46:31.602Z"
   },
   {
    "duration": 2104,
    "start_time": "2021-06-30T18:47:08.671Z"
   },
   {
    "duration": 46,
    "start_time": "2021-06-30T18:47:41.904Z"
   },
   {
    "duration": 1475,
    "start_time": "2021-06-30T18:49:17.251Z"
   },
   {
    "duration": 28,
    "start_time": "2021-06-30T18:51:51.782Z"
   },
   {
    "duration": 1333,
    "start_time": "2021-06-30T18:51:57.686Z"
   },
   {
    "duration": 917,
    "start_time": "2021-06-30T18:52:07.668Z"
   },
   {
    "duration": 18,
    "start_time": "2021-06-30T18:52:08.588Z"
   },
   {
    "duration": 12,
    "start_time": "2021-06-30T18:52:08.609Z"
   },
   {
    "duration": 1580,
    "start_time": "2021-06-30T18:52:08.624Z"
   },
   {
    "duration": -12237,
    "start_time": "2021-06-30T18:52:22.443Z"
   },
   {
    "duration": 1411,
    "start_time": "2021-06-30T18:54:56.241Z"
   },
   {
    "duration": 55,
    "start_time": "2021-06-30T18:56:53.466Z"
   },
   {
    "duration": 1734,
    "start_time": "2021-06-30T19:02:29.001Z"
   },
   {
    "duration": 1382,
    "start_time": "2021-06-30T19:02:41.993Z"
   },
   {
    "duration": 1378,
    "start_time": "2021-06-30T19:02:53.290Z"
   },
   {
    "duration": 59,
    "start_time": "2021-06-30T19:07:06.957Z"
   },
   {
    "duration": 30,
    "start_time": "2021-06-30T19:08:39.278Z"
   },
   {
    "duration": 597,
    "start_time": "2021-06-30T19:15:10.571Z"
   },
   {
    "duration": 339,
    "start_time": "2021-06-30T19:22:15.125Z"
   },
   {
    "duration": 297,
    "start_time": "2021-06-30T19:22:51.554Z"
   },
   {
    "duration": 461,
    "start_time": "2021-06-30T19:24:47.843Z"
   },
   {
    "duration": 432,
    "start_time": "2021-06-30T19:24:55.906Z"
   },
   {
    "duration": 389,
    "start_time": "2021-06-30T19:25:03.740Z"
   },
   {
    "duration": 938,
    "start_time": "2021-07-01T17:03:16.089Z"
   },
   {
    "duration": 12,
    "start_time": "2021-07-01T17:03:17.030Z"
   },
   {
    "duration": 12,
    "start_time": "2021-07-01T17:03:17.045Z"
   },
   {
    "duration": 72,
    "start_time": "2021-07-01T17:03:17.060Z"
   },
   {
    "duration": 27,
    "start_time": "2021-07-01T17:03:17.134Z"
   },
   {
    "duration": 620,
    "start_time": "2021-07-01T17:03:17.164Z"
   },
   {
    "duration": 420,
    "start_time": "2021-07-01T17:03:17.787Z"
   },
   {
    "duration": 331,
    "start_time": "2021-07-01T17:11:32.735Z"
   },
   {
    "duration": 424,
    "start_time": "2021-07-01T17:11:52.215Z"
   },
   {
    "duration": 443,
    "start_time": "2021-07-01T17:11:57.257Z"
   },
   {
    "duration": 512,
    "start_time": "2021-07-01T17:23:19.897Z"
   },
   {
    "duration": 316,
    "start_time": "2021-07-01T17:35:25.640Z"
   },
   {
    "duration": 384,
    "start_time": "2021-07-01T17:35:39.772Z"
   },
   {
    "duration": 466,
    "start_time": "2021-07-01T17:47:54.357Z"
   },
   {
    "duration": 419,
    "start_time": "2021-07-01T17:48:01.624Z"
   },
   {
    "duration": 472,
    "start_time": "2021-07-01T17:48:18.769Z"
   },
   {
    "duration": 449,
    "start_time": "2021-07-01T17:48:41.504Z"
   },
   {
    "duration": 452,
    "start_time": "2021-07-01T17:49:06.813Z"
   },
   {
    "duration": 471,
    "start_time": "2021-07-01T17:49:24.856Z"
   },
   {
    "duration": 477,
    "start_time": "2021-07-01T17:49:38.191Z"
   },
   {
    "duration": 606,
    "start_time": "2021-07-01T17:49:53.099Z"
   },
   {
    "duration": 621,
    "start_time": "2021-07-01T18:05:41.158Z"
   },
   {
    "duration": 463,
    "start_time": "2021-07-01T18:07:39.627Z"
   },
   {
    "duration": 410,
    "start_time": "2021-07-01T18:13:39.474Z"
   },
   {
    "duration": 10,
    "start_time": "2021-07-01T18:33:34.518Z"
   },
   {
    "duration": 289,
    "start_time": "2021-07-01T18:40:17.403Z"
   },
   {
    "duration": 7342,
    "start_time": "2021-07-01T18:44:33.371Z"
   },
   {
    "duration": 409,
    "start_time": "2021-07-01T18:44:48.792Z"
   },
   {
    "duration": 10,
    "start_time": "2021-07-01T18:50:49.763Z"
   },
   {
    "duration": 355,
    "start_time": "2021-07-03T09:08:42.980Z"
   },
   {
    "duration": 855,
    "start_time": "2021-07-03T09:08:50.029Z"
   },
   {
    "duration": 19,
    "start_time": "2021-07-03T09:08:50.887Z"
   },
   {
    "duration": 12,
    "start_time": "2021-07-03T09:08:50.910Z"
   },
   {
    "duration": 62,
    "start_time": "2021-07-03T09:08:50.925Z"
   },
   {
    "duration": 30,
    "start_time": "2021-07-03T09:08:50.990Z"
   },
   {
    "duration": 622,
    "start_time": "2021-07-03T09:08:51.022Z"
   },
   {
    "duration": 430,
    "start_time": "2021-07-03T09:08:51.647Z"
   },
   {
    "duration": 401,
    "start_time": "2021-07-03T09:08:52.086Z"
   },
   {
    "duration": 591,
    "start_time": "2021-07-03T09:08:52.491Z"
   },
   {
    "duration": 450,
    "start_time": "2021-07-03T09:08:53.086Z"
   },
   {
    "duration": 561,
    "start_time": "2021-07-03T09:08:53.539Z"
   },
   {
    "duration": 468,
    "start_time": "2021-07-03T09:08:54.103Z"
   },
   {
    "duration": 420,
    "start_time": "2021-07-03T09:08:54.573Z"
   },
   {
    "duration": 10,
    "start_time": "2021-07-03T09:08:54.996Z"
   },
   {
    "duration": 379,
    "start_time": "2021-07-03T09:08:55.009Z"
   },
   {
    "duration": 424,
    "start_time": "2021-07-03T09:08:55.390Z"
   },
   {
    "duration": 10,
    "start_time": "2021-07-03T09:08:55.816Z"
   },
   {
    "duration": 126,
    "start_time": "2021-07-03T09:08:55.829Z"
   },
   {
    "duration": 554,
    "start_time": "2021-07-03T09:09:18.305Z"
   },
   {
    "duration": 111,
    "start_time": "2021-07-03T09:09:24.244Z"
   },
   {
    "duration": 225,
    "start_time": "2021-07-03T09:14:31.329Z"
   },
   {
    "duration": 300,
    "start_time": "2021-07-03T09:16:25.276Z"
   },
   {
    "duration": 318,
    "start_time": "2021-07-03T09:16:46.390Z"
   },
   {
    "duration": 462,
    "start_time": "2021-07-03T09:22:39.107Z"
   },
   {
    "duration": 586,
    "start_time": "2021-07-03T09:39:13.833Z"
   },
   {
    "duration": 557,
    "start_time": "2021-07-03T09:39:53.278Z"
   },
   {
    "duration": 8122,
    "start_time": "2021-07-03T09:39:58.827Z"
   },
   {
    "duration": 7557,
    "start_time": "2021-07-03T09:42:28.025Z"
   },
   {
    "duration": 1378,
    "start_time": "2021-07-03T09:42:50.698Z"
   },
   {
    "duration": 14,
    "start_time": "2021-07-03T09:42:52.079Z"
   },
   {
    "duration": 14,
    "start_time": "2021-07-03T09:42:52.097Z"
   },
   {
    "duration": 73,
    "start_time": "2021-07-03T09:42:52.115Z"
   },
   {
    "duration": 28,
    "start_time": "2021-07-03T09:42:52.190Z"
   },
   {
    "duration": 589,
    "start_time": "2021-07-03T09:42:52.221Z"
   },
   {
    "duration": 422,
    "start_time": "2021-07-03T09:42:52.813Z"
   },
   {
    "duration": 376,
    "start_time": "2021-07-03T09:42:53.239Z"
   },
   {
    "duration": 467,
    "start_time": "2021-07-03T09:42:53.618Z"
   },
   {
    "duration": 380,
    "start_time": "2021-07-03T09:42:54.087Z"
   },
   {
    "duration": 502,
    "start_time": "2021-07-03T09:42:54.470Z"
   },
   {
    "duration": 524,
    "start_time": "2021-07-03T09:42:54.975Z"
   },
   {
    "duration": 363,
    "start_time": "2021-07-03T09:42:55.501Z"
   },
   {
    "duration": 20,
    "start_time": "2021-07-03T09:42:55.866Z"
   },
   {
    "duration": 287,
    "start_time": "2021-07-03T09:42:55.889Z"
   },
   {
    "duration": 413,
    "start_time": "2021-07-03T09:42:56.186Z"
   },
   {
    "duration": 10,
    "start_time": "2021-07-03T09:42:56.601Z"
   },
   {
    "duration": 549,
    "start_time": "2021-07-03T09:42:56.614Z"
   },
   {
    "duration": 265,
    "start_time": "2021-07-03T09:42:57.166Z"
   },
   {
    "duration": 215,
    "start_time": "2021-07-03T09:46:59.823Z"
   },
   {
    "duration": 17,
    "start_time": "2021-07-03T09:55:16.868Z"
   },
   {
    "duration": 15,
    "start_time": "2021-07-03T10:10:04.158Z"
   },
   {
    "duration": 19,
    "start_time": "2021-07-03T10:17:37.325Z"
   },
   {
    "duration": 18,
    "start_time": "2021-07-03T10:24:34.203Z"
   },
   {
    "duration": 22,
    "start_time": "2021-07-03T10:24:45.068Z"
   },
   {
    "duration": 18,
    "start_time": "2021-07-03T10:25:00.109Z"
   },
   {
    "duration": 15,
    "start_time": "2021-07-03T10:25:11.189Z"
   },
   {
    "duration": 213,
    "start_time": "2021-07-03T10:25:20.746Z"
   },
   {
    "duration": 473,
    "start_time": "2021-07-03T10:25:29.238Z"
   },
   {
    "duration": 21,
    "start_time": "2021-07-03T10:26:19.014Z"
   },
   {
    "duration": 1410,
    "start_time": "2021-07-03T12:56:54.028Z"
   },
   {
    "duration": 15,
    "start_time": "2021-07-03T12:56:55.441Z"
   },
   {
    "duration": 13,
    "start_time": "2021-07-03T12:56:55.460Z"
   },
   {
    "duration": 60,
    "start_time": "2021-07-03T12:56:55.476Z"
   },
   {
    "duration": 28,
    "start_time": "2021-07-03T12:56:55.539Z"
   },
   {
    "duration": 610,
    "start_time": "2021-07-03T12:56:55.570Z"
   },
   {
    "duration": 413,
    "start_time": "2021-07-03T12:56:56.182Z"
   },
   {
    "duration": 384,
    "start_time": "2021-07-03T12:56:56.597Z"
   },
   {
    "duration": 441,
    "start_time": "2021-07-03T12:56:56.985Z"
   },
   {
    "duration": 398,
    "start_time": "2021-07-03T12:56:57.428Z"
   },
   {
    "duration": 518,
    "start_time": "2021-07-03T12:56:57.829Z"
   },
   {
    "duration": 450,
    "start_time": "2021-07-03T12:56:58.350Z"
   },
   {
    "duration": 367,
    "start_time": "2021-07-03T12:56:58.802Z"
   },
   {
    "duration": 10,
    "start_time": "2021-07-03T12:56:59.171Z"
   },
   {
    "duration": 313,
    "start_time": "2021-07-03T12:56:59.183Z"
   },
   {
    "duration": 388,
    "start_time": "2021-07-03T12:56:59.498Z"
   },
   {
    "duration": 9,
    "start_time": "2021-07-03T12:56:59.888Z"
   },
   {
    "duration": 547,
    "start_time": "2021-07-03T12:56:59.899Z"
   },
   {
    "duration": 226,
    "start_time": "2021-07-03T12:57:00.448Z"
   },
   {
    "duration": 14,
    "start_time": "2021-07-03T12:57:00.676Z"
   },
   {
    "duration": 29,
    "start_time": "2021-07-03T12:57:00.693Z"
   },
   {
    "duration": 42,
    "start_time": "2021-07-03T12:57:00.724Z"
   },
   {
    "duration": 24,
    "start_time": "2021-07-03T12:57:00.768Z"
   },
   {
    "duration": 89,
    "start_time": "2021-07-03T12:57:59.439Z"
   },
   {
    "duration": 86,
    "start_time": "2021-07-03T13:03:15.733Z"
   },
   {
    "duration": 1433,
    "start_time": "2021-07-03T15:27:52.945Z"
   },
   {
    "duration": 98,
    "start_time": "2021-07-03T15:29:11.097Z"
   },
   {
    "duration": 24,
    "start_time": "2021-07-03T15:30:30.077Z"
   },
   {
    "duration": 17,
    "start_time": "2021-07-03T15:30:46.963Z"
   },
   {
    "duration": 17,
    "start_time": "2021-07-03T15:38:54.229Z"
   },
   {
    "duration": 17,
    "start_time": "2021-07-03T15:39:08.394Z"
   },
   {
    "duration": 21,
    "start_time": "2021-07-03T15:40:02.103Z"
   },
   {
    "duration": 100,
    "start_time": "2021-07-03T15:50:18.832Z"
   },
   {
    "duration": 105,
    "start_time": "2021-07-03T15:51:46.652Z"
   },
   {
    "duration": 96,
    "start_time": "2021-07-03T15:52:03.513Z"
   },
   {
    "duration": 1006,
    "start_time": "2021-07-04T04:16:06.522Z"
   },
   {
    "duration": 13,
    "start_time": "2021-07-04T04:16:07.531Z"
   },
   {
    "duration": 9,
    "start_time": "2021-07-04T04:16:07.547Z"
   },
   {
    "duration": 19,
    "start_time": "2021-07-04T04:16:07.558Z"
   },
   {
    "duration": 49,
    "start_time": "2021-07-04T04:16:07.579Z"
   },
   {
    "duration": 21,
    "start_time": "2021-07-04T04:16:07.629Z"
   },
   {
    "duration": 317,
    "start_time": "2021-07-04T04:16:07.651Z"
   },
   {
    "duration": 225,
    "start_time": "2021-07-04T04:16:07.970Z"
   },
   {
    "duration": 205,
    "start_time": "2021-07-04T04:16:08.197Z"
   },
   {
    "duration": 330,
    "start_time": "2021-07-04T04:16:08.404Z"
   },
   {
    "duration": 226,
    "start_time": "2021-07-04T04:16:08.735Z"
   },
   {
    "duration": 314,
    "start_time": "2021-07-04T04:16:08.963Z"
   },
   {
    "duration": 242,
    "start_time": "2021-07-04T04:16:09.279Z"
   },
   {
    "duration": 277,
    "start_time": "2021-07-04T04:16:09.523Z"
   },
   {
    "duration": 6,
    "start_time": "2021-07-04T04:16:09.802Z"
   },
   {
    "duration": 163,
    "start_time": "2021-07-04T04:16:09.810Z"
   },
   {
    "duration": 254,
    "start_time": "2021-07-04T04:16:09.975Z"
   },
   {
    "duration": 15,
    "start_time": "2021-07-04T04:16:10.230Z"
   },
   {
    "duration": 317,
    "start_time": "2021-07-04T04:16:10.247Z"
   },
   {
    "duration": 133,
    "start_time": "2021-07-04T04:16:10.565Z"
   },
   {
    "duration": 9,
    "start_time": "2021-07-04T04:16:10.699Z"
   },
   {
    "duration": 32,
    "start_time": "2021-07-04T04:16:10.709Z"
   },
   {
    "duration": 11,
    "start_time": "2021-07-04T04:16:10.743Z"
   },
   {
    "duration": 15,
    "start_time": "2021-07-04T04:16:10.755Z"
   },
   {
    "duration": 12,
    "start_time": "2021-07-04T04:21:40.601Z"
   },
   {
    "duration": 4,
    "start_time": "2021-07-04T04:42:46.164Z"
   },
   {
    "duration": 4,
    "start_time": "2021-07-04T04:43:26.345Z"
   },
   {
    "duration": 7,
    "start_time": "2021-07-04T04:46:37.167Z"
   },
   {
    "duration": 6,
    "start_time": "2021-07-04T04:46:52.137Z"
   },
   {
    "duration": 6,
    "start_time": "2021-07-04T04:47:43.465Z"
   },
   {
    "duration": 24,
    "start_time": "2021-07-04T04:48:57.401Z"
   },
   {
    "duration": 318,
    "start_time": "2021-07-04T04:59:32.812Z"
   },
   {
    "duration": 12,
    "start_time": "2021-07-04T04:59:52.066Z"
   },
   {
    "duration": 9,
    "start_time": "2021-07-04T05:00:01.880Z"
   },
   {
    "duration": 266,
    "start_time": "2021-07-04T05:03:16.945Z"
   },
   {
    "duration": 13,
    "start_time": "2021-07-04T05:03:37.346Z"
   },
   {
    "duration": 14,
    "start_time": "2021-07-04T05:04:56.170Z"
   },
   {
    "duration": 13,
    "start_time": "2021-07-04T05:05:02.934Z"
   },
   {
    "duration": 79,
    "start_time": "2021-07-04T05:08:18.447Z"
   },
   {
    "duration": 255,
    "start_time": "2021-07-04T05:08:51.738Z"
   },
   {
    "duration": 495,
    "start_time": "2021-07-04T05:09:02.199Z"
   },
   {
    "duration": 11,
    "start_time": "2021-07-04T05:23:46.822Z"
   },
   {
    "duration": 1002,
    "start_time": "2021-07-04T05:33:58.122Z"
   },
   {
    "duration": 11,
    "start_time": "2021-07-04T05:33:59.126Z"
   },
   {
    "duration": 10,
    "start_time": "2021-07-04T05:33:59.139Z"
   },
   {
    "duration": 17,
    "start_time": "2021-07-04T05:33:59.151Z"
   },
   {
    "duration": 47,
    "start_time": "2021-07-04T05:33:59.169Z"
   },
   {
    "duration": 6,
    "start_time": "2021-07-04T05:33:59.218Z"
   },
   {
    "duration": 12,
    "start_time": "2021-07-04T05:33:59.225Z"
   },
   {
    "duration": 23,
    "start_time": "2021-07-04T05:33:59.240Z"
   },
   {
    "duration": 5,
    "start_time": "2021-07-04T05:33:59.264Z"
   },
   {
    "duration": 338,
    "start_time": "2021-07-04T05:33:59.270Z"
   },
   {
    "duration": 228,
    "start_time": "2021-07-04T05:33:59.610Z"
   },
   {
    "duration": 220,
    "start_time": "2021-07-04T05:33:59.840Z"
   },
   {
    "duration": 302,
    "start_time": "2021-07-04T05:34:00.062Z"
   },
   {
    "duration": 212,
    "start_time": "2021-07-04T05:34:00.366Z"
   },
   {
    "duration": 306,
    "start_time": "2021-07-04T05:34:00.579Z"
   },
   {
    "duration": 255,
    "start_time": "2021-07-04T05:34:00.887Z"
   },
   {
    "duration": 262,
    "start_time": "2021-07-04T05:34:01.144Z"
   },
   {
    "duration": 6,
    "start_time": "2021-07-04T05:34:01.407Z"
   },
   {
    "duration": 161,
    "start_time": "2021-07-04T05:34:01.415Z"
   },
   {
    "duration": 249,
    "start_time": "2021-07-04T05:34:01.577Z"
   },
   {
    "duration": 14,
    "start_time": "2021-07-04T05:34:01.828Z"
   },
   {
    "duration": 314,
    "start_time": "2021-07-04T05:34:01.844Z"
   },
   {
    "duration": 110,
    "start_time": "2021-07-04T05:34:02.161Z"
   },
   {
    "duration": 8,
    "start_time": "2021-07-04T05:34:02.273Z"
   },
   {
    "duration": 10,
    "start_time": "2021-07-04T05:34:02.282Z"
   },
   {
    "duration": 14,
    "start_time": "2021-07-04T05:34:02.294Z"
   },
   {
    "duration": 11,
    "start_time": "2021-07-04T05:34:02.309Z"
   },
   {
    "duration": 21,
    "start_time": "2021-07-04T05:35:13.064Z"
   },
   {
    "duration": 319,
    "start_time": "2021-07-04T05:35:22.030Z"
   },
   {
    "duration": 202,
    "start_time": "2021-07-04T05:35:25.700Z"
   },
   {
    "duration": 202,
    "start_time": "2021-07-04T05:35:43.213Z"
   },
   {
    "duration": 223,
    "start_time": "2021-07-04T05:39:19.837Z"
   },
   {
    "duration": 276,
    "start_time": "2021-07-04T05:40:26.633Z"
   },
   {
    "duration": 374,
    "start_time": "2021-07-04T05:51:32.200Z"
   },
   {
    "duration": 353,
    "start_time": "2021-07-04T05:52:31.500Z"
   },
   {
    "duration": 373,
    "start_time": "2021-07-04T05:53:43.700Z"
   },
   {
    "duration": 413,
    "start_time": "2021-07-04T05:55:13.182Z"
   },
   {
    "duration": 341,
    "start_time": "2021-07-04T05:55:27.155Z"
   },
   {
    "duration": 214,
    "start_time": "2021-07-04T05:55:53.190Z"
   },
   {
    "duration": 246,
    "start_time": "2021-07-04T05:56:04.973Z"
   },
   {
    "duration": 370,
    "start_time": "2021-07-04T06:03:44.820Z"
   },
   {
    "duration": 342,
    "start_time": "2021-07-04T06:04:00.901Z"
   },
   {
    "duration": 1437,
    "start_time": "2021-07-05T06:24:08.264Z"
   },
   {
    "duration": 17,
    "start_time": "2021-07-05T06:24:09.703Z"
   },
   {
    "duration": 16,
    "start_time": "2021-07-05T06:24:09.723Z"
   },
   {
    "duration": 34,
    "start_time": "2021-07-05T06:24:09.742Z"
   },
   {
    "duration": 65,
    "start_time": "2021-07-05T06:24:09.780Z"
   },
   {
    "duration": 8,
    "start_time": "2021-07-05T06:24:09.847Z"
   },
   {
    "duration": 20,
    "start_time": "2021-07-05T06:24:09.857Z"
   },
   {
    "duration": 36,
    "start_time": "2021-07-05T06:24:09.881Z"
   },
   {
    "duration": 19,
    "start_time": "2021-07-05T06:24:09.922Z"
   },
   {
    "duration": 636,
    "start_time": "2021-07-05T06:24:09.944Z"
   },
   {
    "duration": 623,
    "start_time": "2021-07-05T06:24:10.582Z"
   },
   {
    "duration": 524,
    "start_time": "2021-07-05T06:24:11.210Z"
   },
   {
    "duration": 504,
    "start_time": "2021-07-05T06:24:11.736Z"
   },
   {
    "duration": 390,
    "start_time": "2021-07-05T06:24:12.243Z"
   },
   {
    "duration": 494,
    "start_time": "2021-07-05T06:24:12.635Z"
   },
   {
    "duration": 452,
    "start_time": "2021-07-05T06:24:13.132Z"
   },
   {
    "duration": 402,
    "start_time": "2021-07-05T06:24:13.587Z"
   },
   {
    "duration": 18,
    "start_time": "2021-07-05T06:24:13.992Z"
   },
   {
    "duration": 308,
    "start_time": "2021-07-05T06:24:14.013Z"
   },
   {
    "duration": 479,
    "start_time": "2021-07-05T06:24:14.323Z"
   },
   {
    "duration": 11,
    "start_time": "2021-07-05T06:24:14.808Z"
   },
   {
    "duration": 473,
    "start_time": "2021-07-05T06:24:14.823Z"
   },
   {
    "duration": 214,
    "start_time": "2021-07-05T06:24:15.308Z"
   },
   {
    "duration": 14,
    "start_time": "2021-07-05T06:24:15.525Z"
   },
   {
    "duration": 17,
    "start_time": "2021-07-05T06:24:15.541Z"
   },
   {
    "duration": 51,
    "start_time": "2021-07-05T06:24:15.560Z"
   },
   {
    "duration": 20,
    "start_time": "2021-07-05T06:24:15.614Z"
   },
   {
    "duration": 733,
    "start_time": "2021-07-05T06:28:51.720Z"
   },
   {
    "duration": 648,
    "start_time": "2021-07-05T06:29:32.705Z"
   },
   {
    "duration": 414,
    "start_time": "2021-07-05T06:29:46.813Z"
   },
   {
    "duration": 402,
    "start_time": "2021-07-05T06:30:03.920Z"
   },
   {
    "duration": 510,
    "start_time": "2021-07-05T06:30:59.963Z"
   },
   {
    "duration": 502,
    "start_time": "2021-07-05T06:31:35.972Z"
   },
   {
    "duration": 505,
    "start_time": "2021-07-05T06:32:31.809Z"
   },
   {
    "duration": 574,
    "start_time": "2021-07-05T06:39:03.581Z"
   },
   {
    "duration": 500,
    "start_time": "2021-07-05T06:39:37.449Z"
   },
   {
    "duration": 379,
    "start_time": "2021-07-05T06:40:05.920Z"
   },
   {
    "duration": 359,
    "start_time": "2021-07-05T06:40:22.545Z"
   },
   {
    "duration": 14,
    "start_time": "2021-07-05T06:44:46.658Z"
   },
   {
    "duration": 15,
    "start_time": "2021-07-05T06:44:53.531Z"
   },
   {
    "duration": 317,
    "start_time": "2021-07-05T06:49:47.552Z"
   },
   {
    "duration": 315,
    "start_time": "2021-07-05T06:50:28.434Z"
   },
   {
    "duration": 439,
    "start_time": "2021-07-05T06:51:59.402Z"
   },
   {
    "duration": 457,
    "start_time": "2021-07-05T06:54:43.354Z"
   },
   {
    "duration": 448,
    "start_time": "2021-07-05T06:54:53.333Z"
   },
   {
    "duration": 223,
    "start_time": "2021-07-05T07:03:27.859Z"
   },
   {
    "duration": 15,
    "start_time": "2021-07-05T07:04:00.220Z"
   },
   {
    "duration": 24,
    "start_time": "2021-07-05T07:04:37.182Z"
   },
   {
    "duration": 23,
    "start_time": "2021-07-05T07:05:43.957Z"
   },
   {
    "duration": 909,
    "start_time": "2021-07-05T08:27:53.334Z"
   }
  ],
  "colab": {
   "collapsed_sections": [
    "aAVxFh9sg8RX",
    "lZCyZNNYg8RZ",
    "Iulo5Vqqg8Ra",
    "eOzcAvFxg8Ra",
    "zejxOQIZg8Rb",
    "0VAVhuxwg8Rc",
    "tWSrZCc2g8Rd",
    "MrEi3v4Pg8Rd",
    "LwiXGRfjg8Re",
    "QbKkkViug8Rf",
    "I-kaAZQBg8Rg",
    "pg72T0UBg8Rh",
    "xUtHa08_g8Ri"
   ],
   "name": "b0ecfa39-aa26-4bcf-9c56-9ecbfef2d80d (3).ipynb",
   "provenance": []
  },
  "kernelspec": {
   "display_name": "Python 3",
   "language": "python",
   "name": "python3"
  },
  "language_info": {
   "codemirror_mode": {
    "name": "ipython",
    "version": 3
   },
   "file_extension": ".py",
   "mimetype": "text/x-python",
   "name": "python",
   "nbconvert_exporter": "python",
   "pygments_lexer": "ipython3",
   "version": "3.8.8"
  },
  "toc": {
   "base_numbering": 1,
   "nav_menu": {},
   "number_sections": true,
   "sideBar": true,
   "skip_h1_title": true,
   "title_cell": "Table of Contents",
   "title_sidebar": "Contents",
   "toc_cell": false,
   "toc_position": {},
   "toc_section_display": true,
   "toc_window_display": false
  }
 },
 "nbformat": 4,
 "nbformat_minor": 1
}
